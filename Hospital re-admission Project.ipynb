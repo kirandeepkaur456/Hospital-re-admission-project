{
 "cells": [
  {
   "cell_type": "code",
   "execution_count": 3,
   "id": "ab2e9e93",
   "metadata": {},
   "outputs": [],
   "source": [
    "# Importing necessary libraries"
   ]
  },
  {
   "cell_type": "code",
   "execution_count": 4,
   "id": "52b539b9",
   "metadata": {},
   "outputs": [],
   "source": [
    "import pandas as pd\n",
    "import numpy as np\n",
    "import seaborn as sns #import seaborn library for statistical visualization\n",
    "import matplotlib.pyplot as plt"
   ]
  },
  {
   "cell_type": "code",
   "execution_count": 5,
   "id": "1d41e1dc",
   "metadata": {},
   "outputs": [],
   "source": [
    "#loading the dataset"
   ]
  },
  {
   "cell_type": "code",
   "execution_count": 6,
   "id": "b9544e9a",
   "metadata": {},
   "outputs": [],
   "source": [
    "data=pd.read_csv(r\"C:\\Users\\Kiran\\Downloads\\hospital_readmissions.csv\")"
   ]
  },
  {
   "cell_type": "code",
   "execution_count": 7,
   "id": "45a1e269",
   "metadata": {},
   "outputs": [
    {
     "data": {
      "text/plain": [
       "(25000, 17)"
      ]
     },
     "execution_count": 7,
     "metadata": {},
     "output_type": "execute_result"
    }
   ],
   "source": [
    "#Getting the no of rows and columns\n",
    "data.shape"
   ]
  },
  {
   "cell_type": "code",
   "execution_count": 8,
   "id": "ec052f0a",
   "metadata": {},
   "outputs": [],
   "source": [
    "# Displaying top five rows of the dataset"
   ]
  },
  {
   "cell_type": "code",
   "execution_count": 9,
   "id": "98ef5789",
   "metadata": {},
   "outputs": [
    {
     "data": {
      "text/html": [
       "<div>\n",
       "<style scoped>\n",
       "    .dataframe tbody tr th:only-of-type {\n",
       "        vertical-align: middle;\n",
       "    }\n",
       "\n",
       "    .dataframe tbody tr th {\n",
       "        vertical-align: top;\n",
       "    }\n",
       "\n",
       "    .dataframe thead th {\n",
       "        text-align: right;\n",
       "    }\n",
       "</style>\n",
       "<table border=\"1\" class=\"dataframe\">\n",
       "  <thead>\n",
       "    <tr style=\"text-align: right;\">\n",
       "      <th></th>\n",
       "      <th>age</th>\n",
       "      <th>time_in_hospital</th>\n",
       "      <th>n_lab_procedures</th>\n",
       "      <th>n_procedures</th>\n",
       "      <th>n_medications</th>\n",
       "      <th>n_outpatient</th>\n",
       "      <th>n_inpatient</th>\n",
       "      <th>n_emergency</th>\n",
       "      <th>medical_specialty</th>\n",
       "      <th>diag_1</th>\n",
       "      <th>diag_2</th>\n",
       "      <th>diag_3</th>\n",
       "      <th>glucose_test</th>\n",
       "      <th>A1Ctest</th>\n",
       "      <th>change</th>\n",
       "      <th>diabetes_med</th>\n",
       "      <th>readmitted</th>\n",
       "    </tr>\n",
       "  </thead>\n",
       "  <tbody>\n",
       "    <tr>\n",
       "      <th>0</th>\n",
       "      <td>[70-80)</td>\n",
       "      <td>8</td>\n",
       "      <td>72</td>\n",
       "      <td>1</td>\n",
       "      <td>18</td>\n",
       "      <td>2</td>\n",
       "      <td>0</td>\n",
       "      <td>0</td>\n",
       "      <td>Missing</td>\n",
       "      <td>Circulatory</td>\n",
       "      <td>Respiratory</td>\n",
       "      <td>Other</td>\n",
       "      <td>no</td>\n",
       "      <td>no</td>\n",
       "      <td>no</td>\n",
       "      <td>yes</td>\n",
       "      <td>no</td>\n",
       "    </tr>\n",
       "    <tr>\n",
       "      <th>1</th>\n",
       "      <td>[70-80)</td>\n",
       "      <td>3</td>\n",
       "      <td>34</td>\n",
       "      <td>2</td>\n",
       "      <td>13</td>\n",
       "      <td>0</td>\n",
       "      <td>0</td>\n",
       "      <td>0</td>\n",
       "      <td>Other</td>\n",
       "      <td>Other</td>\n",
       "      <td>Other</td>\n",
       "      <td>Other</td>\n",
       "      <td>no</td>\n",
       "      <td>no</td>\n",
       "      <td>no</td>\n",
       "      <td>yes</td>\n",
       "      <td>no</td>\n",
       "    </tr>\n",
       "    <tr>\n",
       "      <th>2</th>\n",
       "      <td>[50-60)</td>\n",
       "      <td>5</td>\n",
       "      <td>45</td>\n",
       "      <td>0</td>\n",
       "      <td>18</td>\n",
       "      <td>0</td>\n",
       "      <td>0</td>\n",
       "      <td>0</td>\n",
       "      <td>Missing</td>\n",
       "      <td>Circulatory</td>\n",
       "      <td>Circulatory</td>\n",
       "      <td>Circulatory</td>\n",
       "      <td>no</td>\n",
       "      <td>no</td>\n",
       "      <td>yes</td>\n",
       "      <td>yes</td>\n",
       "      <td>yes</td>\n",
       "    </tr>\n",
       "    <tr>\n",
       "      <th>3</th>\n",
       "      <td>[70-80)</td>\n",
       "      <td>2</td>\n",
       "      <td>36</td>\n",
       "      <td>0</td>\n",
       "      <td>12</td>\n",
       "      <td>1</td>\n",
       "      <td>0</td>\n",
       "      <td>0</td>\n",
       "      <td>Missing</td>\n",
       "      <td>Circulatory</td>\n",
       "      <td>Other</td>\n",
       "      <td>Diabetes</td>\n",
       "      <td>no</td>\n",
       "      <td>no</td>\n",
       "      <td>yes</td>\n",
       "      <td>yes</td>\n",
       "      <td>yes</td>\n",
       "    </tr>\n",
       "    <tr>\n",
       "      <th>4</th>\n",
       "      <td>[60-70)</td>\n",
       "      <td>1</td>\n",
       "      <td>42</td>\n",
       "      <td>0</td>\n",
       "      <td>7</td>\n",
       "      <td>0</td>\n",
       "      <td>0</td>\n",
       "      <td>0</td>\n",
       "      <td>InternalMedicine</td>\n",
       "      <td>Other</td>\n",
       "      <td>Circulatory</td>\n",
       "      <td>Respiratory</td>\n",
       "      <td>no</td>\n",
       "      <td>no</td>\n",
       "      <td>no</td>\n",
       "      <td>yes</td>\n",
       "      <td>no</td>\n",
       "    </tr>\n",
       "  </tbody>\n",
       "</table>\n",
       "</div>"
      ],
      "text/plain": [
       "       age  time_in_hospital  n_lab_procedures  n_procedures  n_medications  \\\n",
       "0  [70-80)                 8                72             1             18   \n",
       "1  [70-80)                 3                34             2             13   \n",
       "2  [50-60)                 5                45             0             18   \n",
       "3  [70-80)                 2                36             0             12   \n",
       "4  [60-70)                 1                42             0              7   \n",
       "\n",
       "   n_outpatient  n_inpatient  n_emergency medical_specialty       diag_1  \\\n",
       "0             2            0            0           Missing  Circulatory   \n",
       "1             0            0            0             Other        Other   \n",
       "2             0            0            0           Missing  Circulatory   \n",
       "3             1            0            0           Missing  Circulatory   \n",
       "4             0            0            0  InternalMedicine        Other   \n",
       "\n",
       "        diag_2       diag_3 glucose_test A1Ctest change diabetes_med  \\\n",
       "0  Respiratory        Other           no      no     no          yes   \n",
       "1        Other        Other           no      no     no          yes   \n",
       "2  Circulatory  Circulatory           no      no    yes          yes   \n",
       "3        Other     Diabetes           no      no    yes          yes   \n",
       "4  Circulatory  Respiratory           no      no     no          yes   \n",
       "\n",
       "  readmitted  \n",
       "0         no  \n",
       "1         no  \n",
       "2        yes  \n",
       "3        yes  \n",
       "4         no  "
      ]
     },
     "execution_count": 9,
     "metadata": {},
     "output_type": "execute_result"
    }
   ],
   "source": [
    "data.head()"
   ]
  },
  {
   "cell_type": "code",
   "execution_count": 10,
   "id": "852af9b7",
   "metadata": {},
   "outputs": [
    {
     "data": {
      "text/html": [
       "<div>\n",
       "<style scoped>\n",
       "    .dataframe tbody tr th:only-of-type {\n",
       "        vertical-align: middle;\n",
       "    }\n",
       "\n",
       "    .dataframe tbody tr th {\n",
       "        vertical-align: top;\n",
       "    }\n",
       "\n",
       "    .dataframe thead th {\n",
       "        text-align: right;\n",
       "    }\n",
       "</style>\n",
       "<table border=\"1\" class=\"dataframe\">\n",
       "  <thead>\n",
       "    <tr style=\"text-align: right;\">\n",
       "      <th></th>\n",
       "      <th>age</th>\n",
       "      <th>time_in_hospital</th>\n",
       "      <th>n_lab_procedures</th>\n",
       "      <th>n_procedures</th>\n",
       "      <th>n_medications</th>\n",
       "      <th>n_outpatient</th>\n",
       "      <th>n_inpatient</th>\n",
       "      <th>n_emergency</th>\n",
       "      <th>medical_specialty</th>\n",
       "      <th>diag_1</th>\n",
       "      <th>diag_2</th>\n",
       "      <th>diag_3</th>\n",
       "      <th>glucose_test</th>\n",
       "      <th>A1Ctest</th>\n",
       "      <th>change</th>\n",
       "      <th>diabetes_med</th>\n",
       "      <th>readmitted</th>\n",
       "    </tr>\n",
       "  </thead>\n",
       "  <tbody>\n",
       "    <tr>\n",
       "      <th>24995</th>\n",
       "      <td>[80-90)</td>\n",
       "      <td>14</td>\n",
       "      <td>77</td>\n",
       "      <td>1</td>\n",
       "      <td>30</td>\n",
       "      <td>0</td>\n",
       "      <td>0</td>\n",
       "      <td>0</td>\n",
       "      <td>Missing</td>\n",
       "      <td>Circulatory</td>\n",
       "      <td>Other</td>\n",
       "      <td>Circulatory</td>\n",
       "      <td>no</td>\n",
       "      <td>normal</td>\n",
       "      <td>no</td>\n",
       "      <td>no</td>\n",
       "      <td>yes</td>\n",
       "    </tr>\n",
       "    <tr>\n",
       "      <th>24996</th>\n",
       "      <td>[80-90)</td>\n",
       "      <td>2</td>\n",
       "      <td>66</td>\n",
       "      <td>0</td>\n",
       "      <td>24</td>\n",
       "      <td>0</td>\n",
       "      <td>0</td>\n",
       "      <td>0</td>\n",
       "      <td>Missing</td>\n",
       "      <td>Digestive</td>\n",
       "      <td>Injury</td>\n",
       "      <td>Other</td>\n",
       "      <td>no</td>\n",
       "      <td>high</td>\n",
       "      <td>yes</td>\n",
       "      <td>yes</td>\n",
       "      <td>yes</td>\n",
       "    </tr>\n",
       "    <tr>\n",
       "      <th>24997</th>\n",
       "      <td>[70-80)</td>\n",
       "      <td>5</td>\n",
       "      <td>12</td>\n",
       "      <td>0</td>\n",
       "      <td>6</td>\n",
       "      <td>0</td>\n",
       "      <td>1</td>\n",
       "      <td>0</td>\n",
       "      <td>Missing</td>\n",
       "      <td>Other</td>\n",
       "      <td>Other</td>\n",
       "      <td>Other</td>\n",
       "      <td>normal</td>\n",
       "      <td>no</td>\n",
       "      <td>no</td>\n",
       "      <td>no</td>\n",
       "      <td>yes</td>\n",
       "    </tr>\n",
       "    <tr>\n",
       "      <th>24998</th>\n",
       "      <td>[70-80)</td>\n",
       "      <td>2</td>\n",
       "      <td>61</td>\n",
       "      <td>3</td>\n",
       "      <td>15</td>\n",
       "      <td>0</td>\n",
       "      <td>0</td>\n",
       "      <td>0</td>\n",
       "      <td>Family/GeneralPractice</td>\n",
       "      <td>Respiratory</td>\n",
       "      <td>Diabetes</td>\n",
       "      <td>Other</td>\n",
       "      <td>no</td>\n",
       "      <td>no</td>\n",
       "      <td>yes</td>\n",
       "      <td>yes</td>\n",
       "      <td>no</td>\n",
       "    </tr>\n",
       "    <tr>\n",
       "      <th>24999</th>\n",
       "      <td>[50-60)</td>\n",
       "      <td>10</td>\n",
       "      <td>37</td>\n",
       "      <td>1</td>\n",
       "      <td>24</td>\n",
       "      <td>0</td>\n",
       "      <td>0</td>\n",
       "      <td>0</td>\n",
       "      <td>Missing</td>\n",
       "      <td>Other</td>\n",
       "      <td>Diabetes</td>\n",
       "      <td>Circulatory</td>\n",
       "      <td>no</td>\n",
       "      <td>no</td>\n",
       "      <td>no</td>\n",
       "      <td>no</td>\n",
       "      <td>yes</td>\n",
       "    </tr>\n",
       "  </tbody>\n",
       "</table>\n",
       "</div>"
      ],
      "text/plain": [
       "           age  time_in_hospital  n_lab_procedures  n_procedures  \\\n",
       "24995  [80-90)                14                77             1   \n",
       "24996  [80-90)                 2                66             0   \n",
       "24997  [70-80)                 5                12             0   \n",
       "24998  [70-80)                 2                61             3   \n",
       "24999  [50-60)                10                37             1   \n",
       "\n",
       "       n_medications  n_outpatient  n_inpatient  n_emergency  \\\n",
       "24995             30             0            0            0   \n",
       "24996             24             0            0            0   \n",
       "24997              6             0            1            0   \n",
       "24998             15             0            0            0   \n",
       "24999             24             0            0            0   \n",
       "\n",
       "            medical_specialty       diag_1    diag_2       diag_3  \\\n",
       "24995                 Missing  Circulatory     Other  Circulatory   \n",
       "24996                 Missing    Digestive    Injury        Other   \n",
       "24997                 Missing        Other     Other        Other   \n",
       "24998  Family/GeneralPractice  Respiratory  Diabetes        Other   \n",
       "24999                 Missing        Other  Diabetes  Circulatory   \n",
       "\n",
       "      glucose_test A1Ctest change diabetes_med readmitted  \n",
       "24995           no  normal     no           no        yes  \n",
       "24996           no    high    yes          yes        yes  \n",
       "24997       normal      no     no           no        yes  \n",
       "24998           no      no    yes          yes         no  \n",
       "24999           no      no     no           no        yes  "
      ]
     },
     "execution_count": 10,
     "metadata": {},
     "output_type": "execute_result"
    }
   ],
   "source": [
    "# Displays the last 5 rows of the dataset\n",
    "data.tail(5)"
   ]
  },
  {
   "cell_type": "code",
   "execution_count": 11,
   "id": "94f8e4df",
   "metadata": {},
   "outputs": [
    {
     "data": {
      "text/plain": [
       "0"
      ]
     },
     "execution_count": 11,
     "metadata": {},
     "output_type": "execute_result"
    }
   ],
   "source": [
    "# checking null values\n",
    "data.isnull().sum().sum()"
   ]
  },
  {
   "cell_type": "code",
   "execution_count": 12,
   "id": "fe92ac2e",
   "metadata": {},
   "outputs": [],
   "source": [
    "# there are no null values in the dataset\n"
   ]
  },
  {
   "cell_type": "code",
   "execution_count": 13,
   "id": "b7aa0043",
   "metadata": {},
   "outputs": [
    {
     "data": {
      "text/plain": [
       "0"
      ]
     },
     "execution_count": 13,
     "metadata": {},
     "output_type": "execute_result"
    }
   ],
   "source": [
    "# checking duplicates\n",
    "data.duplicated().sum()"
   ]
  },
  {
   "cell_type": "code",
   "execution_count": 14,
   "id": "b7b6b829",
   "metadata": {},
   "outputs": [],
   "source": [
    "#there are no duplicates as well."
   ]
  },
  {
   "cell_type": "code",
   "execution_count": 15,
   "id": "011ab825",
   "metadata": {},
   "outputs": [],
   "source": [
    "# replace missing values "
   ]
  },
  {
   "cell_type": "code",
   "execution_count": 16,
   "id": "609cf073",
   "metadata": {},
   "outputs": [],
   "source": [
    "replace_diag_1  = data['diag_1'].mode()[0]\n",
    "data['diag_1'].replace({'missing': replace_diag_1}, inplace=True)"
   ]
  },
  {
   "cell_type": "code",
   "execution_count": 17,
   "id": "c0970f2d",
   "metadata": {},
   "outputs": [],
   "source": [
    "replace_diag_2  = data['diag_2'].mode()[0]\n",
    "data['diag_2'].replace({'missing': replace_diag_2}, inplace=True)"
   ]
  },
  {
   "cell_type": "code",
   "execution_count": 18,
   "id": "d75db6ef",
   "metadata": {},
   "outputs": [],
   "source": [
    "replace_diag_3  = data['diag_3'].mode()[0]\n",
    "data['diag_3'].replace({'missing': replace_diag_3}, inplace=True)"
   ]
  },
  {
   "cell_type": "code",
   "execution_count": 19,
   "id": "696c1f1f",
   "metadata": {},
   "outputs": [
    {
     "name": "stdout",
     "output_type": "stream",
     "text": [
      "Missing                   12382\n",
      "InternalMedicine           3565\n",
      "Other                      2664\n",
      "Emergency/Trauma           1885\n",
      "Family/GeneralPractice     1882\n",
      "Cardiology                 1409\n",
      "Surgery                    1213\n",
      "Name: medical_specialty, dtype: int64\n"
     ]
    }
   ],
   "source": [
    "print(data['medical_specialty'].value_counts())"
   ]
  },
  {
   "cell_type": "code",
   "execution_count": 20,
   "id": "3564b89f",
   "metadata": {},
   "outputs": [],
   "source": [
    "#dropping medical speciality column \n",
    "data=data.drop(\"medical_specialty\",axis=1)"
   ]
  },
  {
   "cell_type": "code",
   "execution_count": 21,
   "id": "3a742cdd",
   "metadata": {},
   "outputs": [],
   "source": [
    "data.to_csv(\"CLEANED_healthcare data.csv\", index=False)"
   ]
  },
  {
   "cell_type": "code",
   "execution_count": 22,
   "id": "85ddec8d",
   "metadata": {},
   "outputs": [
    {
     "data": {
      "text/html": [
       "<div>\n",
       "<style scoped>\n",
       "    .dataframe tbody tr th:only-of-type {\n",
       "        vertical-align: middle;\n",
       "    }\n",
       "\n",
       "    .dataframe tbody tr th {\n",
       "        vertical-align: top;\n",
       "    }\n",
       "\n",
       "    .dataframe thead th {\n",
       "        text-align: right;\n",
       "    }\n",
       "</style>\n",
       "<table border=\"1\" class=\"dataframe\">\n",
       "  <thead>\n",
       "    <tr style=\"text-align: right;\">\n",
       "      <th></th>\n",
       "      <th>age</th>\n",
       "      <th>time_in_hospital</th>\n",
       "      <th>n_lab_procedures</th>\n",
       "      <th>n_procedures</th>\n",
       "      <th>n_medications</th>\n",
       "      <th>n_outpatient</th>\n",
       "      <th>n_inpatient</th>\n",
       "      <th>n_emergency</th>\n",
       "      <th>diag_1</th>\n",
       "      <th>diag_2</th>\n",
       "      <th>diag_3</th>\n",
       "      <th>glucose_test</th>\n",
       "      <th>A1Ctest</th>\n",
       "      <th>change</th>\n",
       "      <th>diabetes_med</th>\n",
       "      <th>readmitted</th>\n",
       "    </tr>\n",
       "  </thead>\n",
       "  <tbody>\n",
       "    <tr>\n",
       "      <th>0</th>\n",
       "      <td>[70-80)</td>\n",
       "      <td>8</td>\n",
       "      <td>72</td>\n",
       "      <td>1</td>\n",
       "      <td>18</td>\n",
       "      <td>2</td>\n",
       "      <td>0</td>\n",
       "      <td>0</td>\n",
       "      <td>Circulatory</td>\n",
       "      <td>Respiratory</td>\n",
       "      <td>Other</td>\n",
       "      <td>no</td>\n",
       "      <td>no</td>\n",
       "      <td>no</td>\n",
       "      <td>yes</td>\n",
       "      <td>no</td>\n",
       "    </tr>\n",
       "    <tr>\n",
       "      <th>1</th>\n",
       "      <td>[70-80)</td>\n",
       "      <td>3</td>\n",
       "      <td>34</td>\n",
       "      <td>2</td>\n",
       "      <td>13</td>\n",
       "      <td>0</td>\n",
       "      <td>0</td>\n",
       "      <td>0</td>\n",
       "      <td>Other</td>\n",
       "      <td>Other</td>\n",
       "      <td>Other</td>\n",
       "      <td>no</td>\n",
       "      <td>no</td>\n",
       "      <td>no</td>\n",
       "      <td>yes</td>\n",
       "      <td>no</td>\n",
       "    </tr>\n",
       "    <tr>\n",
       "      <th>2</th>\n",
       "      <td>[50-60)</td>\n",
       "      <td>5</td>\n",
       "      <td>45</td>\n",
       "      <td>0</td>\n",
       "      <td>18</td>\n",
       "      <td>0</td>\n",
       "      <td>0</td>\n",
       "      <td>0</td>\n",
       "      <td>Circulatory</td>\n",
       "      <td>Circulatory</td>\n",
       "      <td>Circulatory</td>\n",
       "      <td>no</td>\n",
       "      <td>no</td>\n",
       "      <td>yes</td>\n",
       "      <td>yes</td>\n",
       "      <td>yes</td>\n",
       "    </tr>\n",
       "    <tr>\n",
       "      <th>3</th>\n",
       "      <td>[70-80)</td>\n",
       "      <td>2</td>\n",
       "      <td>36</td>\n",
       "      <td>0</td>\n",
       "      <td>12</td>\n",
       "      <td>1</td>\n",
       "      <td>0</td>\n",
       "      <td>0</td>\n",
       "      <td>Circulatory</td>\n",
       "      <td>Other</td>\n",
       "      <td>Diabetes</td>\n",
       "      <td>no</td>\n",
       "      <td>no</td>\n",
       "      <td>yes</td>\n",
       "      <td>yes</td>\n",
       "      <td>yes</td>\n",
       "    </tr>\n",
       "    <tr>\n",
       "      <th>4</th>\n",
       "      <td>[60-70)</td>\n",
       "      <td>1</td>\n",
       "      <td>42</td>\n",
       "      <td>0</td>\n",
       "      <td>7</td>\n",
       "      <td>0</td>\n",
       "      <td>0</td>\n",
       "      <td>0</td>\n",
       "      <td>Other</td>\n",
       "      <td>Circulatory</td>\n",
       "      <td>Respiratory</td>\n",
       "      <td>no</td>\n",
       "      <td>no</td>\n",
       "      <td>no</td>\n",
       "      <td>yes</td>\n",
       "      <td>no</td>\n",
       "    </tr>\n",
       "    <tr>\n",
       "      <th>5</th>\n",
       "      <td>[40-50)</td>\n",
       "      <td>2</td>\n",
       "      <td>51</td>\n",
       "      <td>0</td>\n",
       "      <td>10</td>\n",
       "      <td>0</td>\n",
       "      <td>0</td>\n",
       "      <td>0</td>\n",
       "      <td>Other</td>\n",
       "      <td>Other</td>\n",
       "      <td>Other</td>\n",
       "      <td>no</td>\n",
       "      <td>no</td>\n",
       "      <td>no</td>\n",
       "      <td>no</td>\n",
       "      <td>yes</td>\n",
       "    </tr>\n",
       "    <tr>\n",
       "      <th>6</th>\n",
       "      <td>[50-60)</td>\n",
       "      <td>4</td>\n",
       "      <td>44</td>\n",
       "      <td>2</td>\n",
       "      <td>21</td>\n",
       "      <td>0</td>\n",
       "      <td>0</td>\n",
       "      <td>0</td>\n",
       "      <td>Injury</td>\n",
       "      <td>Other</td>\n",
       "      <td>Other</td>\n",
       "      <td>no</td>\n",
       "      <td>normal</td>\n",
       "      <td>yes</td>\n",
       "      <td>yes</td>\n",
       "      <td>no</td>\n",
       "    </tr>\n",
       "    <tr>\n",
       "      <th>7</th>\n",
       "      <td>[60-70)</td>\n",
       "      <td>1</td>\n",
       "      <td>19</td>\n",
       "      <td>6</td>\n",
       "      <td>16</td>\n",
       "      <td>0</td>\n",
       "      <td>0</td>\n",
       "      <td>1</td>\n",
       "      <td>Circulatory</td>\n",
       "      <td>Other</td>\n",
       "      <td>Other</td>\n",
       "      <td>no</td>\n",
       "      <td>no</td>\n",
       "      <td>no</td>\n",
       "      <td>yes</td>\n",
       "      <td>yes</td>\n",
       "    </tr>\n",
       "    <tr>\n",
       "      <th>8</th>\n",
       "      <td>[80-90)</td>\n",
       "      <td>4</td>\n",
       "      <td>67</td>\n",
       "      <td>3</td>\n",
       "      <td>13</td>\n",
       "      <td>0</td>\n",
       "      <td>0</td>\n",
       "      <td>0</td>\n",
       "      <td>Digestive</td>\n",
       "      <td>Other</td>\n",
       "      <td>Other</td>\n",
       "      <td>no</td>\n",
       "      <td>no</td>\n",
       "      <td>no</td>\n",
       "      <td>no</td>\n",
       "      <td>yes</td>\n",
       "    </tr>\n",
       "    <tr>\n",
       "      <th>9</th>\n",
       "      <td>[70-80)</td>\n",
       "      <td>8</td>\n",
       "      <td>37</td>\n",
       "      <td>1</td>\n",
       "      <td>18</td>\n",
       "      <td>0</td>\n",
       "      <td>0</td>\n",
       "      <td>0</td>\n",
       "      <td>Respiratory</td>\n",
       "      <td>Respiratory</td>\n",
       "      <td>Other</td>\n",
       "      <td>no</td>\n",
       "      <td>no</td>\n",
       "      <td>yes</td>\n",
       "      <td>yes</td>\n",
       "      <td>no</td>\n",
       "    </tr>\n",
       "  </tbody>\n",
       "</table>\n",
       "</div>"
      ],
      "text/plain": [
       "       age  time_in_hospital  n_lab_procedures  n_procedures  n_medications  \\\n",
       "0  [70-80)                 8                72             1             18   \n",
       "1  [70-80)                 3                34             2             13   \n",
       "2  [50-60)                 5                45             0             18   \n",
       "3  [70-80)                 2                36             0             12   \n",
       "4  [60-70)                 1                42             0              7   \n",
       "5  [40-50)                 2                51             0             10   \n",
       "6  [50-60)                 4                44             2             21   \n",
       "7  [60-70)                 1                19             6             16   \n",
       "8  [80-90)                 4                67             3             13   \n",
       "9  [70-80)                 8                37             1             18   \n",
       "\n",
       "   n_outpatient  n_inpatient  n_emergency       diag_1       diag_2  \\\n",
       "0             2            0            0  Circulatory  Respiratory   \n",
       "1             0            0            0        Other        Other   \n",
       "2             0            0            0  Circulatory  Circulatory   \n",
       "3             1            0            0  Circulatory        Other   \n",
       "4             0            0            0        Other  Circulatory   \n",
       "5             0            0            0        Other        Other   \n",
       "6             0            0            0       Injury        Other   \n",
       "7             0            0            1  Circulatory        Other   \n",
       "8             0            0            0    Digestive        Other   \n",
       "9             0            0            0  Respiratory  Respiratory   \n",
       "\n",
       "        diag_3 glucose_test A1Ctest change diabetes_med readmitted  \n",
       "0        Other           no      no     no          yes         no  \n",
       "1        Other           no      no     no          yes         no  \n",
       "2  Circulatory           no      no    yes          yes        yes  \n",
       "3     Diabetes           no      no    yes          yes        yes  \n",
       "4  Respiratory           no      no     no          yes         no  \n",
       "5        Other           no      no     no           no        yes  \n",
       "6        Other           no  normal    yes          yes         no  \n",
       "7        Other           no      no     no          yes        yes  \n",
       "8        Other           no      no     no           no        yes  \n",
       "9        Other           no      no    yes          yes         no  "
      ]
     },
     "execution_count": 22,
     "metadata": {},
     "output_type": "execute_result"
    }
   ],
   "source": [
    "data.head(10)"
   ]
  },
  {
   "cell_type": "code",
   "execution_count": 23,
   "id": "4db2592b",
   "metadata": {},
   "outputs": [],
   "source": [
    "#Obtaining the column names of the dataset"
   ]
  },
  {
   "cell_type": "code",
   "execution_count": 24,
   "id": "f3231a7b",
   "metadata": {},
   "outputs": [
    {
     "data": {
      "text/plain": [
       "Index(['age', 'time_in_hospital', 'n_lab_procedures', 'n_procedures',\n",
       "       'n_medications', 'n_outpatient', 'n_inpatient', 'n_emergency', 'diag_1',\n",
       "       'diag_2', 'diag_3', 'glucose_test', 'A1Ctest', 'change', 'diabetes_med',\n",
       "       'readmitted'],\n",
       "      dtype='object')"
      ]
     },
     "execution_count": 24,
     "metadata": {},
     "output_type": "execute_result"
    }
   ],
   "source": [
    "data.columns"
   ]
  },
  {
   "cell_type": "code",
   "execution_count": 25,
   "id": "d1088651",
   "metadata": {},
   "outputs": [],
   "source": [
    "#Displaying data frame structure"
   ]
  },
  {
   "cell_type": "code",
   "execution_count": 26,
   "id": "59a83211",
   "metadata": {},
   "outputs": [
    {
     "name": "stdout",
     "output_type": "stream",
     "text": [
      "<class 'pandas.core.frame.DataFrame'>\n",
      "RangeIndex: 25000 entries, 0 to 24999\n",
      "Data columns (total 16 columns):\n",
      " #   Column            Non-Null Count  Dtype \n",
      "---  ------            --------------  ----- \n",
      " 0   age               25000 non-null  object\n",
      " 1   time_in_hospital  25000 non-null  int64 \n",
      " 2   n_lab_procedures  25000 non-null  int64 \n",
      " 3   n_procedures      25000 non-null  int64 \n",
      " 4   n_medications     25000 non-null  int64 \n",
      " 5   n_outpatient      25000 non-null  int64 \n",
      " 6   n_inpatient       25000 non-null  int64 \n",
      " 7   n_emergency       25000 non-null  int64 \n",
      " 8   diag_1            25000 non-null  object\n",
      " 9   diag_2            25000 non-null  object\n",
      " 10  diag_3            25000 non-null  object\n",
      " 11  glucose_test      25000 non-null  object\n",
      " 12  A1Ctest           25000 non-null  object\n",
      " 13  change            25000 non-null  object\n",
      " 14  diabetes_med      25000 non-null  object\n",
      " 15  readmitted        25000 non-null  object\n",
      "dtypes: int64(7), object(9)\n",
      "memory usage: 3.1+ MB\n"
     ]
    }
   ],
   "source": [
    "data.info()"
   ]
  },
  {
   "cell_type": "code",
   "execution_count": 27,
   "id": "f5ef714d",
   "metadata": {},
   "outputs": [],
   "source": [
    "#Getting statistical summary of the data"
   ]
  },
  {
   "cell_type": "code",
   "execution_count": 28,
   "id": "6a990472",
   "metadata": {},
   "outputs": [
    {
     "data": {
      "text/html": [
       "<div>\n",
       "<style scoped>\n",
       "    .dataframe tbody tr th:only-of-type {\n",
       "        vertical-align: middle;\n",
       "    }\n",
       "\n",
       "    .dataframe tbody tr th {\n",
       "        vertical-align: top;\n",
       "    }\n",
       "\n",
       "    .dataframe thead th {\n",
       "        text-align: right;\n",
       "    }\n",
       "</style>\n",
       "<table border=\"1\" class=\"dataframe\">\n",
       "  <thead>\n",
       "    <tr style=\"text-align: right;\">\n",
       "      <th></th>\n",
       "      <th>count</th>\n",
       "      <th>mean</th>\n",
       "      <th>std</th>\n",
       "      <th>min</th>\n",
       "      <th>25%</th>\n",
       "      <th>50%</th>\n",
       "      <th>75%</th>\n",
       "      <th>max</th>\n",
       "    </tr>\n",
       "  </thead>\n",
       "  <tbody>\n",
       "    <tr>\n",
       "      <th>time_in_hospital</th>\n",
       "      <td>25000.0</td>\n",
       "      <td>4.45332</td>\n",
       "      <td>3.001470</td>\n",
       "      <td>1.0</td>\n",
       "      <td>2.0</td>\n",
       "      <td>4.0</td>\n",
       "      <td>6.0</td>\n",
       "      <td>14.0</td>\n",
       "    </tr>\n",
       "    <tr>\n",
       "      <th>n_lab_procedures</th>\n",
       "      <td>25000.0</td>\n",
       "      <td>43.24076</td>\n",
       "      <td>19.818620</td>\n",
       "      <td>1.0</td>\n",
       "      <td>31.0</td>\n",
       "      <td>44.0</td>\n",
       "      <td>57.0</td>\n",
       "      <td>113.0</td>\n",
       "    </tr>\n",
       "    <tr>\n",
       "      <th>n_procedures</th>\n",
       "      <td>25000.0</td>\n",
       "      <td>1.35236</td>\n",
       "      <td>1.715179</td>\n",
       "      <td>0.0</td>\n",
       "      <td>0.0</td>\n",
       "      <td>1.0</td>\n",
       "      <td>2.0</td>\n",
       "      <td>6.0</td>\n",
       "    </tr>\n",
       "    <tr>\n",
       "      <th>n_medications</th>\n",
       "      <td>25000.0</td>\n",
       "      <td>16.25240</td>\n",
       "      <td>8.060532</td>\n",
       "      <td>1.0</td>\n",
       "      <td>11.0</td>\n",
       "      <td>15.0</td>\n",
       "      <td>20.0</td>\n",
       "      <td>79.0</td>\n",
       "    </tr>\n",
       "    <tr>\n",
       "      <th>n_outpatient</th>\n",
       "      <td>25000.0</td>\n",
       "      <td>0.36640</td>\n",
       "      <td>1.195478</td>\n",
       "      <td>0.0</td>\n",
       "      <td>0.0</td>\n",
       "      <td>0.0</td>\n",
       "      <td>0.0</td>\n",
       "      <td>33.0</td>\n",
       "    </tr>\n",
       "    <tr>\n",
       "      <th>n_inpatient</th>\n",
       "      <td>25000.0</td>\n",
       "      <td>0.61596</td>\n",
       "      <td>1.177951</td>\n",
       "      <td>0.0</td>\n",
       "      <td>0.0</td>\n",
       "      <td>0.0</td>\n",
       "      <td>1.0</td>\n",
       "      <td>15.0</td>\n",
       "    </tr>\n",
       "    <tr>\n",
       "      <th>n_emergency</th>\n",
       "      <td>25000.0</td>\n",
       "      <td>0.18660</td>\n",
       "      <td>0.885873</td>\n",
       "      <td>0.0</td>\n",
       "      <td>0.0</td>\n",
       "      <td>0.0</td>\n",
       "      <td>0.0</td>\n",
       "      <td>64.0</td>\n",
       "    </tr>\n",
       "  </tbody>\n",
       "</table>\n",
       "</div>"
      ],
      "text/plain": [
       "                    count      mean        std  min   25%   50%   75%    max\n",
       "time_in_hospital  25000.0   4.45332   3.001470  1.0   2.0   4.0   6.0   14.0\n",
       "n_lab_procedures  25000.0  43.24076  19.818620  1.0  31.0  44.0  57.0  113.0\n",
       "n_procedures      25000.0   1.35236   1.715179  0.0   0.0   1.0   2.0    6.0\n",
       "n_medications     25000.0  16.25240   8.060532  1.0  11.0  15.0  20.0   79.0\n",
       "n_outpatient      25000.0   0.36640   1.195478  0.0   0.0   0.0   0.0   33.0\n",
       "n_inpatient       25000.0   0.61596   1.177951  0.0   0.0   0.0   1.0   15.0\n",
       "n_emergency       25000.0   0.18660   0.885873  0.0   0.0   0.0   0.0   64.0"
      ]
     },
     "execution_count": 28,
     "metadata": {},
     "output_type": "execute_result"
    }
   ],
   "source": [
    "data.describe().T"
   ]
  },
  {
   "cell_type": "code",
   "execution_count": 29,
   "id": "7947095c",
   "metadata": {},
   "outputs": [],
   "source": [
    "#Checking the data types of all the columns"
   ]
  },
  {
   "cell_type": "code",
   "execution_count": 30,
   "id": "6394e9a0",
   "metadata": {},
   "outputs": [
    {
     "data": {
      "text/plain": [
       "age                 object\n",
       "time_in_hospital     int64\n",
       "n_lab_procedures     int64\n",
       "n_procedures         int64\n",
       "n_medications        int64\n",
       "n_outpatient         int64\n",
       "n_inpatient          int64\n",
       "n_emergency          int64\n",
       "diag_1              object\n",
       "diag_2              object\n",
       "diag_3              object\n",
       "glucose_test        object\n",
       "A1Ctest             object\n",
       "change              object\n",
       "diabetes_med        object\n",
       "readmitted          object\n",
       "dtype: object"
      ]
     },
     "execution_count": 30,
     "metadata": {},
     "output_type": "execute_result"
    }
   ],
   "source": [
    "data.dtypes"
   ]
  },
  {
   "cell_type": "code",
   "execution_count": 31,
   "id": "1ce08040",
   "metadata": {},
   "outputs": [],
   "source": [
    "#Data Exploration (EDA)"
   ]
  },
  {
   "cell_type": "code",
   "execution_count": 32,
   "id": "80ed52bf",
   "metadata": {},
   "outputs": [],
   "source": [
    "#converting data types in suitable (category) types"
   ]
  },
  {
   "cell_type": "code",
   "execution_count": 33,
   "id": "1d679fbf",
   "metadata": {},
   "outputs": [],
   "source": [
    "data[\"diag_1\"]=data[\"diag_1\"].astype(\"category\")\n",
    "data[\"diag_2\"]=data[\"diag_2\"].astype(\"category\")\n",
    "data[\"diag_3\"]=data[\"diag_3\"].astype(\"category\")\n",
    "data[\"glucose_test\"]=data[\"glucose_test\"].astype(\"category\")\n",
    "data[\"A1Ctest\"]=data[\"A1Ctest\"].astype(\"category\")\n",
    "data[\"change\"]=data[\"change\"].astype(\"category\")\n",
    "data[\"diabetes_med\"]=data[\"diabetes_med\"].astype(\"category\")\n",
    "data[\"readmitted\"]=data[\"readmitted\"].astype(\"category\")\n",
    "data[\"age\"]=data[\"age\"].astype(\"category\")\n"
   ]
  },
  {
   "cell_type": "code",
   "execution_count": 34,
   "id": "3589ad0b",
   "metadata": {},
   "outputs": [],
   "source": [
    "#Again checking the data types"
   ]
  },
  {
   "cell_type": "code",
   "execution_count": 35,
   "id": "e3301db6",
   "metadata": {
    "scrolled": true
   },
   "outputs": [
    {
     "data": {
      "text/plain": [
       "age                 category\n",
       "time_in_hospital       int64\n",
       "n_lab_procedures       int64\n",
       "n_procedures           int64\n",
       "n_medications          int64\n",
       "n_outpatient           int64\n",
       "n_inpatient            int64\n",
       "n_emergency            int64\n",
       "diag_1              category\n",
       "diag_2              category\n",
       "diag_3              category\n",
       "glucose_test        category\n",
       "A1Ctest             category\n",
       "change              category\n",
       "diabetes_med        category\n",
       "readmitted          category\n",
       "dtype: object"
      ]
     },
     "execution_count": 35,
     "metadata": {},
     "output_type": "execute_result"
    }
   ],
   "source": [
    "data.dtypes"
   ]
  },
  {
   "cell_type": "code",
   "execution_count": 36,
   "id": "1817a297",
   "metadata": {},
   "outputs": [],
   "source": [
    "#visualizations"
   ]
  },
  {
   "cell_type": "code",
   "execution_count": 37,
   "id": "fc045c49",
   "metadata": {},
   "outputs": [],
   "source": [
    " import seaborn as sns \n",
    "import matplotlib.pyplot as plt"
   ]
  },
  {
   "cell_type": "code",
   "execution_count": 38,
   "id": "225816b5",
   "metadata": {},
   "outputs": [
    {
     "data": {
      "image/png": "[encoded data removed]",
      "text/plain": [
       "<Figure size 640x480 with 1 Axes>"
      ]
     },
     "metadata": {},
     "output_type": "display_data"
    }
   ],
   "source": [
    "sns.countplot(x ='readmitted', data = data)\n",
    "plt.show()"
   ]
  },
  {
   "cell_type": "code",
   "execution_count": 39,
   "id": "b8ee077a",
   "metadata": {},
   "outputs": [],
   "source": [
    "#pie chart"
   ]
  },
  {
   "cell_type": "code",
   "execution_count": 40,
   "id": "5ef88db9",
   "metadata": {},
   "outputs": [
    {
     "data": {
      "image/png": "[encoded data removed]",
      "text/plain": [
       "<Figure size 640x480 with 1 Axes>"
      ]
     },
     "metadata": {},
     "output_type": "display_data"
    }
   ],
   "source": [
    "numberofsubscribers=data[\"readmitted\"].value_counts()\n",
    "plt.pie(numberofsubscribers,labels=numberofsubscribers.index,\n",
    "       shadow=True,\n",
    "       wedgeprops={\"edgecolor\":\"black\"},\n",
    "        autopct='%2.1f%%')\n",
    "plt.title(\"Proportion of readmitted people\")\n",
    "plt.savefig(\"pie chart for readmitted.png\")\n",
    "plt.show()"
   ]
  },
  {
   "cell_type": "code",
   "execution_count": 41,
   "id": "17e2ceb0",
   "metadata": {},
   "outputs": [],
   "source": [
    "#Creating a Countplot"
   ]
  },
  {
   "cell_type": "code",
   "execution_count": 42,
   "id": "5c4dd798",
   "metadata": {},
   "outputs": [
    {
     "data": {
      "image/png": "[encoded data removed]",
      "text/plain": [
       "<Figure size 640x480 with 1 Axes>"
      ]
     },
     "metadata": {},
     "output_type": "display_data"
    }
   ],
   "source": [
    "sns.countplot(data=data, x='glucose_test', hue='readmitted')\n",
    "plt.title('glucose_test vs. readmitted')\n",
    "plt.xlabel('glucose_test')\n",
    "plt.ylabel('Count')\n",
    "plt.savefig(\"countplot.png\")\n",
    "plt.show()"
   ]
  },
  {
   "cell_type": "code",
   "execution_count": 43,
   "id": "4e8905a8",
   "metadata": {},
   "outputs": [],
   "source": [
    "#countplot for age"
   ]
  },
  {
   "cell_type": "code",
   "execution_count": 44,
   "id": "ff270497",
   "metadata": {},
   "outputs": [
    {
     "data": {
      "image/png": "[encoded data removed]",
      "text/plain": [
       "<Figure size 640x480 with 1 Axes>"
      ]
     },
     "metadata": {},
     "output_type": "display_data"
    }
   ],
   "source": [
    "sns.countplot(x =\"age\", data = data)\n",
    "plt.show()"
   ]
  },
  {
   "cell_type": "code",
   "execution_count": 45,
   "id": "5dae35aa",
   "metadata": {},
   "outputs": [],
   "source": [
    "#Calculate the correlation matrix"
   ]
  },
  {
   "cell_type": "code",
   "execution_count": 46,
   "id": "30a6191a",
   "metadata": {},
   "outputs": [],
   "source": [
    "correlation_matrix = data.corr()"
   ]
  },
  {
   "cell_type": "code",
   "execution_count": 47,
   "id": "0be4e2e1",
   "metadata": {},
   "outputs": [],
   "source": [
    "#Create a heatmap"
   ]
  },
  {
   "cell_type": "code",
   "execution_count": 48,
   "id": "61f96d88",
   "metadata": {},
   "outputs": [
    {
     "data": {
      "image/png": "[encoded data removed]",
      "text/plain": [
       "<Figure size 640x480 with 2 Axes>"
      ]
     },
     "metadata": {},
     "output_type": "display_data"
    }
   ],
   "source": [
    "sns.heatmap(correlation_matrix, annot=True, cmap='coolwarm')\n",
    "plt.title('Correlation Matrix Heatmap')\n",
    "plt.savefig(\"correlation matrix.png\")\n",
    "plt.show()"
   ]
  },
  {
   "cell_type": "markdown",
   "id": "6d24e031",
   "metadata": {},
   "source": [
    "# Hypothethical Scenerio: (time_in_hospital)\n",
    "Null Hypothesis (H0): The average time spent in the hospital for patients who were readmitted is equal to the average time spent for patients who were not readmitted.\n",
    "\n",
    "Alternative Hypothesis (H1): The average time spent in the hospital for patients who were readmitted  is different from the average time spent for patients who were not readmitted ."
   ]
  },
  {
   "cell_type": "code",
   "execution_count": 49,
   "id": "adf5af6c",
   "metadata": {},
   "outputs": [
    {
     "name": "stdout",
     "output_type": "stream",
     "text": [
      "T-statistic: 6.827923528422878\n",
      "P-value: 0.00000000000881523750\n"
     ]
    }
   ],
   "source": [
    "from scipy.stats import ttest_ind\n",
    "\n",
    "# Extract the 'balance' variable\n",
    "time_in_hospital_readmitted = data[data['readmitted'] == 'yes']['time_in_hospital']\n",
    "time_in_hospital_not_readmitted = data[data['readmitted'] == 'no']['time_in_hospital']\n",
    "\n",
    "# Perform t-test\n",
    "t_statistic, p_value = ttest_ind(time_in_hospital_readmitted,time_in_hospital_not_readmitted, equal_var=False)\n",
    "\n",
    "# Convert the p-value from scientific notation to a normal decimal format\n",
    "p_value_decimal = '{:.20f}'.format(p_value)\n",
    "\n",
    "# Print the results\n",
    "print(\"T-statistic:\", t_statistic)\n",
    "print(\"P-value:\", p_value_decimal)"
   ]
  },
  {
   "cell_type": "markdown",
   "id": "4e02bc90",
   "metadata": {},
   "source": [
    "# Since the p-value  is significantly smaller than the chosen significance level, we reject the null hypothesis.\n",
    "\n",
    "Conclusion: There is strong evidence to suggest that there is a statistically significant difference in the average time spent in the hospital between patients who were readmitted and those who were not."
   ]
  },
  {
   "cell_type": "markdown",
   "id": "086e6ed4",
   "metadata": {},
   "source": [
    "# Hypothethical Scenerio: (n_lab_procedures)\n",
    "Null Hypothesis (H0): The average number of laboratory procedures conducted during a hospital stay for patients who were readmitted is equal to the average number of laboratory procedures for patients who were not readmitted .\n",
    "\n",
    "Alternative Hypothesis (H1): The average number of laboratory procedures conducted during a hospital stay for patients who were readmitted is different from the average number of laboratory procedures for patients who were not readmitted ."
   ]
  },
  {
   "cell_type": "code",
   "execution_count": 50,
   "id": "5db92896",
   "metadata": {},
   "outputs": [
    {
     "name": "stdout",
     "output_type": "stream",
     "text": [
      "T-statistic: 5.225095333176925\n",
      "P-value: 0.00000017547242839734\n"
     ]
    }
   ],
   "source": [
    "from scipy.stats import ttest_ind\n",
    "\n",
    "# Extract the 'balance' variable\n",
    "n_lab_procedures_readmitted = data[data['readmitted'] == 'yes']['n_lab_procedures']\n",
    "n_lab_procedures_not_readmitted = data[data['readmitted'] == 'no']['n_lab_procedures']\n",
    "\n",
    "# Perform t-test\n",
    "t_statistic, p_value = ttest_ind(n_lab_procedures_readmitted,n_lab_procedures_not_readmitted, equal_var=False)\n",
    "\n",
    "# Convert the p-value from scientific notation to a normal decimal format\n",
    "p_value_decimal = '{:.20f}'.format(p_value)\n",
    "\n",
    "# Print the results\n",
    "print(\"T-statistic:\", t_statistic)\n",
    "print(\"P-value:\", p_value_decimal)"
   ]
  },
  {
   "cell_type": "markdown",
   "id": "f58131aa",
   "metadata": {},
   "source": [
    "# The p-value  is significantly smaller than the chosen significance level (e.g., 0.05), indicating strong evidence against the null hypothesis.\n",
    "\n",
    "Therefore, we reject the null hypothesis.\n",
    "\n",
    "Conclusion:\n",
    "There is strong evidence to suggest that there is a statistically significant difference in the average number of laboratory procedures conducted during a hospital stay between patients who were readmitted and those who were not."
   ]
  },
  {
   "cell_type": "markdown",
   "id": "cea0d98e",
   "metadata": {},
   "source": [
    "# Hypothethical Scenerio: (n_procedures)\n",
    "Null Hypothesis (H0): The average number of laboratory procedures conducted during a hospital stay for patients who were readmitted is equal to the average number of laboratory procedures for patients who were not readmitted .\n",
    "\n",
    "Alternative Hypothesis (H1): The average number of laboratory procedures conducted during a hospital stay for patients who were readmitted is different from the average number of laboratory procedures for patients who were not readmitted ."
   ]
  },
  {
   "cell_type": "code",
   "execution_count": 51,
   "id": "02a15c4b",
   "metadata": {},
   "outputs": [
    {
     "name": "stdout",
     "output_type": "stream",
     "text": [
      "T-statistic: -7.054407629021952\n",
      "P-value: 0.00000000000177882424\n"
     ]
    }
   ],
   "source": [
    "from scipy.stats import ttest_ind\n",
    "\n",
    "# Extract the 'balance' variable\n",
    "n_procedures_readmitted = data[data['readmitted'] == 'yes']['n_procedures']\n",
    "n_procedures_not_readmitted = data[data['readmitted'] == 'no']['n_procedures']\n",
    "\n",
    "# Perform t-test\n",
    "t_statistic, p_value = ttest_ind(n_procedures_readmitted,n_procedures_not_readmitted, equal_var=False)\n",
    "\n",
    "# Convert the p-value from scientific notation to a normal decimal format\n",
    "p_value_decimal = '{:.20f}'.format(p_value)\n",
    "\n",
    "# Print the results\n",
    "print(\"T-statistic:\", t_statistic)\n",
    "print(\"P-value:\", p_value_decimal)"
   ]
  },
  {
   "cell_type": "markdown",
   "id": "409c578c",
   "metadata": {},
   "source": [
    "# The p-value is significantly smaller than the chosen significance level (e.g., 0.05), indicating strong evidence against the null hypothesis.\n",
    "Therefore, we reject the null hypothesis."
   ]
  },
  {
   "cell_type": "markdown",
   "id": "3c851a01",
   "metadata": {},
   "source": [
    "# Hypothethical scenerio: (n_medications)\n",
    "Null Hypothesis (H0): The average number of medications prescribed during a hospital stay for patients who were readmitted  is equal to the average number of medications prescribed for patients who were not readmitted .\n",
    "\n",
    "Alternative Hypothesis (H1): The average number of medications prescribed during a hospital stay for patients who were readmitted is different from the average number of medications prescribed for patients who were not readmitted ."
   ]
  },
  {
   "cell_type": "code",
   "execution_count": 52,
   "id": "0e1e9b13",
   "metadata": {},
   "outputs": [
    {
     "name": "stdout",
     "output_type": "stream",
     "text": [
      "T-statistic: 5.871346546050364\n",
      "P-value: 0.00000000437731446124\n"
     ]
    }
   ],
   "source": [
    "from scipy.stats import ttest_ind\n",
    "\n",
    "# Extract the 'balance' variable\n",
    "n_medications_readmitted = data[data['readmitted'] == 'yes']['n_medications']\n",
    "n_medications_not_readmitted = data[data['readmitted'] == 'no']['n_medications']\n",
    "\n",
    "# Perform t-test\n",
    "t_statistic, p_value = ttest_ind(n_medications_readmitted,n_medications_not_readmitted, equal_var=False)\n",
    "\n",
    "# Convert the p-value from scientific notation to a normal decimal format\n",
    "p_value_decimal = '{:.20f}'.format(p_value)\n",
    "\n",
    "# Print the results\n",
    "print(\"T-statistic:\", t_statistic)\n",
    "print(\"P-value:\", p_value_decimal)"
   ]
  },
  {
   "cell_type": "markdown",
   "id": "69e1203c",
   "metadata": {},
   "source": [
    "# The p-value is significantly smaller than the chosen significance level (e.g., 0.05), indicating strong evidence against the null hypothesis.\n",
    "Therefore, we reject the null hypothesis."
   ]
  },
  {
   "cell_type": "markdown",
   "id": "469bd121",
   "metadata": {},
   "source": [
    "# Hypothetical Scenario: (Age)\n",
    "Null Hypothesis (H0): The average age of patients who are readmitted to the hospital within a certain time period is equal to the average age of patients who are not readmitted to the hospital within that time period.\n",
    "\n",
    "Alternative Hypothesis (H1): The average age of patients who are readmitted to the hospital within a certain time period is different from the average age of patients who are not readmitted to the hospital within that time period.\n",
    "\n"
   ]
  },
  {
   "cell_type": "code",
   "execution_count": 53,
   "id": "7c34fb05",
   "metadata": {},
   "outputs": [
    {
     "name": "stdout",
     "output_type": "stream",
     "text": [
      "Chi-square statistic: 48.787297263120706\n",
      "P-value: 2.4528660957495622e-09\n"
     ]
    }
   ],
   "source": [
    "import pandas as pd\n",
    "from scipy.stats import chi2_contingency\n",
    "\n",
    "# Create a contingency table\n",
    "contingency_table = pd.crosstab(data['age'], data['readmitted'])\n",
    "\n",
    "# Perform chi-square test\n",
    "chi2_stat, p_value, _, _ = chi2_contingency(contingency_table)\n",
    "\n",
    "# Print the results\n",
    "print(\"Chi-square statistic:\", chi2_stat)\n",
    "print(\"P-value:\", p_value)"
   ]
  },
  {
   "cell_type": "markdown",
   "id": "918461da",
   "metadata": {},
   "source": [
    "# The p-value is significantly smaller than the chosen significance level (e.g., 0.05), indicating strong evidence against the null hypothesis.\n",
    "Therefore, we reject the null hypothesis."
   ]
  },
  {
   "cell_type": "markdown",
   "id": "1fa32fa0",
   "metadata": {},
   "source": [
    "# Hypothethical Scenerio: (n_outpatient)\n",
    "Null Hypothesis (H0): The average number of outpatient visits attended by patients who were readmitted to the hospital is equal to the average number of outpatient visits attended by patients who were not readmitted.\n",
    "\n",
    "Alternative Hypothesis (H1): The average number of outpatient visits attended by patients who were readmitted to the hospital is different from the average number of outpatient visits attended by patients who were not readmitted."
   ]
  },
  {
   "cell_type": "code",
   "execution_count": 54,
   "id": "f213813f",
   "metadata": {},
   "outputs": [
    {
     "name": "stdout",
     "output_type": "stream",
     "text": [
      "T-statistic: 14.805096775338665\n",
      "P-value: 0.00000000000000000000\n",
      "Reject the null hypothesis. There is enough evidence to suggest a significant difference.\n"
     ]
    }
   ],
   "source": [
    "from scipy.stats import ttest_ind\n",
    "\n",
    "# Extract the 'balance' variable\n",
    "n_outpatient_readmitted = data[data['readmitted'] == 'yes']['n_outpatient']\n",
    "n_outpatient_not_readmitted = data[data['readmitted'] == 'no']['n_outpatient']\n",
    "\n",
    "# Perform t-test\n",
    "t_statistic, p_value = ttest_ind(n_outpatient_readmitted,n_outpatient_not_readmitted, equal_var=False)\n",
    "\n",
    "# Convert the p-value from scientific notation to a normal decimal format\n",
    "p_value_decimal = '{:.20f}'.format(p_value)\n",
    "\n",
    "# Print the results\n",
    "print(\"T-statistic:\", t_statistic)\n",
    "print(\"P-value:\", p_value_decimal)\n",
    "# Define the significance level\n",
    "alpha = 0.05\n",
    "\n",
    "# Check if the p-value is less than the significance level\n",
    "if p_value < alpha:\n",
    "    print('Reject the null hypothesis. There is enough evidence to suggest a significant difference.')\n",
    "else:\n",
    "    print('Fail to reject the null hypothesis. There is not enough evidence to suggest a significant difference.')\n"
   ]
  },
  {
   "cell_type": "markdown",
   "id": "7eedd16e",
   "metadata": {},
   "source": [
    "# Hypothethical Scenerio: (n_inpatient)\n",
    "Null Hypothesis (H0): The average number of inpatient admissions for patients who were readmitted to the hospital is equal to the average number of inpatient admissions for patients who were not readmitted.\n",
    "\n",
    "Alternative Hypothesis (H1): The average number of inpatient admissions for patients who were readmitted to the hospital is different from the average number of inpatient admissions for patients who were not readmitted."
   ]
  },
  {
   "cell_type": "code",
   "execution_count": 55,
   "id": "9eb7b89e",
   "metadata": {},
   "outputs": [
    {
     "name": "stdout",
     "output_type": "stream",
     "text": [
      "T-statistic: 33.35702079451865\n",
      "P-value: 0.00000000000000000000\n",
      "Reject the null hypothesis. There is enough evidence to suggest a significant difference.\n"
     ]
    }
   ],
   "source": [
    "from scipy.stats import ttest_ind\n",
    "\n",
    "# Extract the 'balance' variable\n",
    "n_inpatient_readmitted = data[data['readmitted'] == 'yes']['n_inpatient']\n",
    "n_inpatient_not_readmitted = data[data['readmitted'] == 'no']['n_inpatient']\n",
    "\n",
    "# Perform t-test\n",
    "t_statistic, p_value = ttest_ind(n_inpatient_readmitted,n_inpatient_not_readmitted, equal_var=False)\n",
    "\n",
    "# Convert the p-value from scientific notation to a normal decimal format\n",
    "p_value_decimal = '{:.20f}'.format(p_value)\n",
    "\n",
    "# Print the results\n",
    "print(\"T-statistic:\", t_statistic)\n",
    "print(\"P-value:\", p_value_decimal)\n",
    "# Define the significance level\n",
    "alpha = 0.05\n",
    "\n",
    "# Check if the p-value is less than the significance level\n",
    "if p_value < alpha:\n",
    "    print('Reject the null hypothesis. There is enough evidence to suggest a significant difference.')\n",
    "else:\n",
    "    print('Fail to reject the null hypothesis. There is not enough evidence to suggest a significant difference.')"
   ]
  },
  {
   "cell_type": "markdown",
   "id": "7cd4246c",
   "metadata": {},
   "source": [
    "# Hypothethical Scenerio:(n_emergency)\n",
    "Null Hypothesis (H0):\n",
    "The average number of emergency room visits for patients who were readmitted to the hospital is equal to the average number of emergency room visits for patients who were not readmitted.\n",
    "\n",
    "Alternative Hypothesis (H1):\n",
    "The average number of emergency room visits for patients who were readmitted to the hospital is different from the average number of emergency room visits for patients who were not readmitted."
   ]
  },
  {
   "cell_type": "code",
   "execution_count": 56,
   "id": "a52f6591",
   "metadata": {},
   "outputs": [
    {
     "name": "stdout",
     "output_type": "stream",
     "text": [
      "T-statistic: 14.302014884265771\n",
      "P-value: 0.00000000000000000000\n",
      "Reject the null hypothesis. There is enough evidence to suggest a significant difference.\n"
     ]
    }
   ],
   "source": [
    "from scipy.stats import ttest_ind\n",
    "\n",
    "# Extract the 'balance' variable\n",
    "n_emergency_readmitted = data[data['readmitted'] == 'yes']['n_emergency']\n",
    "n_emergency_not_readmitted = data[data['readmitted'] == 'no']['n_emergency']\n",
    "\n",
    "# Perform t-test\n",
    "t_statistic, p_value = ttest_ind(n_emergency_readmitted,n_emergency_not_readmitted, equal_var=False)\n",
    "\n",
    "# Convert the p-value from scientific notation to a normal decimal format\n",
    "p_value_decimal = '{:.20f}'.format(p_value)\n",
    "\n",
    "# Print the results\n",
    "print(\"T-statistic:\", t_statistic)\n",
    "print(\"P-value:\", p_value_decimal)\n",
    "# Define the significance level\n",
    "alpha = 0.05\n",
    "\n",
    "# Check if the p-value is less than the significance level\n",
    "if p_value < alpha:\n",
    "    print('Reject the null hypothesis. There is enough evidence to suggest a significant difference.')\n",
    "else:\n",
    "    print('Fail to reject the null hypothesis. There is not enough evidence to suggest a significant difference.')"
   ]
  },
  {
   "cell_type": "markdown",
   "id": "5ffa146e",
   "metadata": {},
   "source": [
    "# Hypothethical SCenerio: (diag_1)\n",
    "Null Hypothesis (H0): There is no association diag_1 and readmission status.\n",
    "Alternative Hypothesis (H1): There is a significant association between diag_1 and readmission status.\n",
    "\n",
    "Chi-square Test for Independence: The chi-square test is used when we have two categorical variables, and it helps us assess whether these variables are independent or if there is a significant association."
   ]
  },
  {
   "cell_type": "code",
   "execution_count": 57,
   "id": "0173f6d4",
   "metadata": {},
   "outputs": [
    {
     "name": "stdout",
     "output_type": "stream",
     "text": [
      "Chi-square statistic: 84.9093366990503\n",
      "P-value: 1.3681098778977244e-15\n"
     ]
    }
   ],
   "source": [
    "import pandas as pd\n",
    "from scipy.stats import chi2_contingency\n",
    "\n",
    "# Create a contingency table\n",
    "contingency_table = pd.crosstab(data['diag_1'], data['readmitted'])\n",
    "\n",
    "# Perform chi-square test\n",
    "chi2_stat, p_value, _, _ = chi2_contingency(contingency_table)\n",
    "\n",
    "# Print the results\n",
    "print(\"Chi-square statistic:\", chi2_stat)\n",
    "print(\"P-value:\", p_value)"
   ]
  },
  {
   "cell_type": "markdown",
   "id": "0d69cb3e",
   "metadata": {},
   "source": [
    "# The p-value associated with the chi-square statistic is extremely small. This indicates that the observed association between diag_1 and readmission status is highly unlikely to have occurred by chance alone.\n",
    "With such a small p-value, we would typically reject the null hypothesis. Therefore, we have sufficient evidence to suggest that there is a significant association between diag_1 and the likelihood of readmission."
   ]
  },
  {
   "cell_type": "markdown",
   "id": "2c3884d1",
   "metadata": {},
   "source": [
    "# Hypothethical SCenerio: (diag_2)\n",
    "Null Hypothesis (H0): There is no association diag_2 and readmission status. Alternative Hypothesis (H1): There is a significant association between diag_2 and readmission status.\n",
    "\n",
    "Chi-square Test for Independence: The chi-square test is used when we have two categorical variables, and it helps us assess whether these variables are independent or if there is a significant association."
   ]
  },
  {
   "cell_type": "code",
   "execution_count": 58,
   "id": "57c2b49b",
   "metadata": {},
   "outputs": [
    {
     "name": "stdout",
     "output_type": "stream",
     "text": [
      "Chi-square statistic: 33.138251263598946\n",
      "P-value: 2.4951558937146264e-05\n"
     ]
    }
   ],
   "source": [
    "import pandas as pd\n",
    "from scipy.stats import chi2_contingency\n",
    "\n",
    "# Create a contingency table\n",
    "contingency_table = pd.crosstab(data['diag_2'], data['readmitted'])\n",
    "\n",
    "# Perform chi-square test\n",
    "chi2_stat, p_value, _, _ = chi2_contingency(contingency_table)\n",
    "\n",
    "# Print the results\n",
    "print(\"Chi-square statistic:\", chi2_stat)\n",
    "print(\"P-value:\", p_value)"
   ]
  },
  {
   "cell_type": "markdown",
   "id": "e8da18e5",
   "metadata": {},
   "source": [
    "# The p-value associated with the chi-square statistic is extremely small. This indicates that the observed association between diag_2 and readmission status is highly unlikely to have occurred by chance alone.\n",
    "With such a small p-value, we would typically reject the null hypothesis. Therefore, we have sufficient evidence to suggest that there is a significant association between diag_2 and the likelihood of readmission."
   ]
  },
  {
   "cell_type": "markdown",
   "id": "c82d276f",
   "metadata": {},
   "source": [
    "# Hypothethical SCenerio: (diag_3)\n",
    "Null Hypothesis (H0): There is no association diag_3 and readmission status. Alternative Hypothesis (H1): There is a significant association between diag_3 and readmission status.\n",
    "\n",
    "Chi-square Test for Independence: The chi-square test is used when we have two categorical variables, and it helps us assess whether these variables are independent or if there is a significant association."
   ]
  },
  {
   "cell_type": "code",
   "execution_count": 59,
   "id": "97eab55e",
   "metadata": {},
   "outputs": [
    {
     "name": "stdout",
     "output_type": "stream",
     "text": [
      "Chi-square statistic: 45.78323670239515\n",
      "P-value: 9.633360544317969e-08\n"
     ]
    }
   ],
   "source": [
    "import pandas as pd\n",
    "from scipy.stats import chi2_contingency\n",
    "\n",
    "# Create a contingency table\n",
    "contingency_table = pd.crosstab(data['diag_3'], data['readmitted'])\n",
    "\n",
    "# Perform chi-square test\n",
    "chi2_stat, p_value, _, _ = chi2_contingency(contingency_table)\n",
    "\n",
    "# Print the results\n",
    "print(\"Chi-square statistic:\", chi2_stat)\n",
    "print(\"P-value:\", p_value)"
   ]
  },
  {
   "cell_type": "markdown",
   "id": "a3b448f1",
   "metadata": {},
   "source": [
    "# The p-value associated with the chi-square statistic is extremely small. This indicates that the observed association between diag_3 and readmission status is highly unlikely to have occurred by chance alone.\n",
    "With such a small p-value, we would typically reject the null hypothesis. Therefore, we have sufficient evidence to suggest that there is a significant association between diag_3 and the likelihood of readmission."
   ]
  },
  {
   "cell_type": "markdown",
   "id": "0cb0ec0b",
   "metadata": {},
   "source": [
    "# Hypothethical Scenerio: (glucose_test)\n",
    "Null Hypothesis (H0):\n",
    "The distribution of glucose test results for diabetic patients who were readmitted to the hospital is the same as the distribution for diabetic patients who were not readmitted.\n",
    "\n",
    "Alternative Hypothesis (H1):\n",
    "The distribution of glucose test results for diabetic patients who were readmitted to the hospital is different from the distribution for diabetic patients who were not readmitted."
   ]
  },
  {
   "cell_type": "code",
   "execution_count": 60,
   "id": "bb7bce04",
   "metadata": {},
   "outputs": [
    {
     "name": "stdout",
     "output_type": "stream",
     "text": [
      "Chi-square statistic: 7.753214987229586\n",
      "P-value: 0.020721002208701204\n"
     ]
    }
   ],
   "source": [
    "import pandas as pd\n",
    "from scipy.stats import chi2_contingency\n",
    "\n",
    "# Create a contingency table\n",
    "contingency_table = pd.crosstab(data['glucose_test'], data['readmitted'])\n",
    "\n",
    "# Perform chi-square test\n",
    "chi2_stat, p_value, _, _ = chi2_contingency(contingency_table)\n",
    "\n",
    "# Print the results\n",
    "print(\"Chi-square statistic:\", chi2_stat)\n",
    "print(\"P-value:\", p_value)"
   ]
  },
  {
   "cell_type": "markdown",
   "id": "8e6fcc7d",
   "metadata": {},
   "source": [
    "# Reject the null hypothesis. There is enough evidence to suggest a significant difference."
   ]
  },
  {
   "cell_type": "markdown",
   "id": "34a75aaf",
   "metadata": {},
   "source": [
    "# Hypothethical Scenerio: (A1Ctest)\n",
    "Null Hypothesis (H0):\n",
    "The average A1C test result for diabetic patients who were readmitted to the hospital is equal to the average A1C test result for diabetic patients who were not readmitted.\n",
    "\n",
    "Alternative Hypothesis (H1):\n",
    "The average A1C test result for diabetic patients who were readmitted to the hospital is different from the average A1C test result for diabetic patients who were not readmitted."
   ]
  },
  {
   "cell_type": "code",
   "execution_count": 61,
   "id": "3cec899b",
   "metadata": {},
   "outputs": [
    {
     "name": "stdout",
     "output_type": "stream",
     "text": [
      "Chi-square statistic: 14.826035925143096\n",
      "P-value: 0.0006033470652361825\n"
     ]
    }
   ],
   "source": [
    "import pandas as pd\n",
    "from scipy.stats import chi2_contingency\n",
    "\n",
    "# Create a contingency table\n",
    "contingency_table = pd.crosstab(data['A1Ctest'], data['readmitted'])\n",
    "\n",
    "# Perform chi-square test\n",
    "chi2_stat, p_value, _, _ = chi2_contingency(contingency_table)\n",
    "\n",
    "# Print the results\n",
    "print(\"Chi-square statistic:\", chi2_stat)\n",
    "print(\"P-value:\", p_value)"
   ]
  },
  {
   "cell_type": "markdown",
   "id": "7d367b36",
   "metadata": {},
   "source": [
    "# Reject the null hypothesis. There is enough evidence to suggest a significant difference."
   ]
  },
  {
   "cell_type": "markdown",
   "id": "28c20180",
   "metadata": {},
   "source": [
    "# Hypothethical Scenerio:(change)\n",
    "    Null Hypothesis (H0):\n",
    "There is no difference in the proportion of patients who experience a change in diabetes medication between those receiving the new medication and those receiving the standard treatment.\n",
    "\n",
    "Alternative Hypothesis (H1):\n",
    "There is a difference in the proportion of patients who experience a change in diabetes medication between those receiving the new medication and those receiving the standard treatment."
   ]
  },
  {
   "cell_type": "code",
   "execution_count": 62,
   "id": "3ef7cead",
   "metadata": {},
   "outputs": [
    {
     "name": "stdout",
     "output_type": "stream",
     "text": [
      "Chi-square statistic: 46.51351158916284\n",
      "P-value: 9.098887998980001e-12\n"
     ]
    }
   ],
   "source": [
    "import pandas as pd\n",
    "from scipy.stats import chi2_contingency\n",
    "\n",
    "# Create a contingency table\n",
    "contingency_table = pd.crosstab(data['change'], data['readmitted'])\n",
    "\n",
    "# Perform chi-square test\n",
    "chi2_stat, p_value, _, _ = chi2_contingency(contingency_table)\n",
    "\n",
    "# Print the results\n",
    "print(\"Chi-square statistic:\", chi2_stat)\n",
    "print(\"P-value:\", p_value)"
   ]
  },
  {
   "cell_type": "markdown",
   "id": "413887aa",
   "metadata": {},
   "source": [
    "# Since the p-value is significantly smaller than the chosen significance level (e.g., 0.05), we reject the null hypothesis."
   ]
  },
  {
   "cell_type": "markdown",
   "id": "7af56146",
   "metadata": {},
   "source": [
    "# Hypothethical scenerio:(diabetes_med)\n",
    "    Null Hypothesis (H0):\n",
    "There is no difference in the proportion of hospital readmissions between diabetic patients prescribed the specific diabetes medication and those not prescribed the medication.\n",
    "\n",
    "Alternative Hypothesis (H1):\n",
    "There is a difference in the proportion of hospital readmissions between diabetic patients prescribed the specific diabetes medication and those not prescribed the medication."
   ]
  },
  {
   "cell_type": "code",
   "execution_count": 63,
   "id": "50ee2130",
   "metadata": {},
   "outputs": [
    {
     "name": "stdout",
     "output_type": "stream",
     "text": [
      "Chi-square statistic: 96.25564041916765\n",
      "P-value: 1.0096710996814763e-22\n"
     ]
    }
   ],
   "source": [
    "import pandas as pd\n",
    "from scipy.stats import chi2_contingency\n",
    "\n",
    "# Create a contingency table\n",
    "contingency_table = pd.crosstab(data['diabetes_med'], data['readmitted'])\n",
    "\n",
    "# Perform chi-square test\n",
    "chi2_stat, p_value, _, _ = chi2_contingency(contingency_table)\n",
    "\n",
    "# Print the results\n",
    "print(\"Chi-square statistic:\", chi2_stat)\n",
    "print(\"P-value:\", p_value)"
   ]
  },
  {
   "cell_type": "markdown",
   "id": "1eca35b7",
   "metadata": {},
   "source": [
    "# Reject the null hypothesis. There is enough evidence to suggest a significant difference."
   ]
  },
  {
   "cell_type": "markdown",
   "id": "344acf28",
   "metadata": {},
   "source": [
    "# Specify the input data"
   ]
  },
  {
   "cell_type": "code",
   "execution_count": 64,
   "id": "8f5051dc",
   "metadata": {},
   "outputs": [
    {
     "data": {
      "text/html": [
       "<div>\n",
       "<style scoped>\n",
       "    .dataframe tbody tr th:only-of-type {\n",
       "        vertical-align: middle;\n",
       "    }\n",
       "\n",
       "    .dataframe tbody tr th {\n",
       "        vertical-align: top;\n",
       "    }\n",
       "\n",
       "    .dataframe thead th {\n",
       "        text-align: right;\n",
       "    }\n",
       "</style>\n",
       "<table border=\"1\" class=\"dataframe\">\n",
       "  <thead>\n",
       "    <tr style=\"text-align: right;\">\n",
       "      <th></th>\n",
       "      <th>age</th>\n",
       "      <th>time_in_hospital</th>\n",
       "      <th>n_lab_procedures</th>\n",
       "      <th>n_procedures</th>\n",
       "      <th>n_medications</th>\n",
       "      <th>n_outpatient</th>\n",
       "      <th>n_inpatient</th>\n",
       "      <th>n_emergency</th>\n",
       "      <th>diag_1</th>\n",
       "      <th>diag_2</th>\n",
       "      <th>diag_3</th>\n",
       "      <th>glucose_test</th>\n",
       "      <th>A1Ctest</th>\n",
       "      <th>change</th>\n",
       "      <th>diabetes_med</th>\n",
       "    </tr>\n",
       "  </thead>\n",
       "  <tbody>\n",
       "    <tr>\n",
       "      <th>0</th>\n",
       "      <td>[70-80)</td>\n",
       "      <td>8</td>\n",
       "      <td>72</td>\n",
       "      <td>1</td>\n",
       "      <td>18</td>\n",
       "      <td>2</td>\n",
       "      <td>0</td>\n",
       "      <td>0</td>\n",
       "      <td>Circulatory</td>\n",
       "      <td>Respiratory</td>\n",
       "      <td>Other</td>\n",
       "      <td>no</td>\n",
       "      <td>no</td>\n",
       "      <td>no</td>\n",
       "      <td>yes</td>\n",
       "    </tr>\n",
       "    <tr>\n",
       "      <th>1</th>\n",
       "      <td>[70-80)</td>\n",
       "      <td>3</td>\n",
       "      <td>34</td>\n",
       "      <td>2</td>\n",
       "      <td>13</td>\n",
       "      <td>0</td>\n",
       "      <td>0</td>\n",
       "      <td>0</td>\n",
       "      <td>Other</td>\n",
       "      <td>Other</td>\n",
       "      <td>Other</td>\n",
       "      <td>no</td>\n",
       "      <td>no</td>\n",
       "      <td>no</td>\n",
       "      <td>yes</td>\n",
       "    </tr>\n",
       "  </tbody>\n",
       "</table>\n",
       "</div>"
      ],
      "text/plain": [
       "       age  time_in_hospital  n_lab_procedures  n_procedures  n_medications  \\\n",
       "0  [70-80)                 8                72             1             18   \n",
       "1  [70-80)                 3                34             2             13   \n",
       "\n",
       "   n_outpatient  n_inpatient  n_emergency       diag_1       diag_2 diag_3  \\\n",
       "0             2            0            0  Circulatory  Respiratory  Other   \n",
       "1             0            0            0        Other        Other  Other   \n",
       "\n",
       "  glucose_test A1Ctest change diabetes_med  \n",
       "0           no      no     no          yes  \n",
       "1           no      no     no          yes  "
      ]
     },
     "execution_count": 64,
     "metadata": {},
     "output_type": "execute_result"
    }
   ],
   "source": [
    "input_data=data.drop(\"readmitted\",axis=1)\n",
    "input_data.head(2)"
   ]
  },
  {
   "cell_type": "markdown",
   "id": "62c79946",
   "metadata": {},
   "source": [
    "# specify the target variable"
   ]
  },
  {
   "cell_type": "code",
   "execution_count": 65,
   "id": "a5eb5c31",
   "metadata": {},
   "outputs": [
    {
     "data": {
      "text/plain": [
       "0     no\n",
       "1     no\n",
       "2    yes\n",
       "Name: readmitted, dtype: category\n",
       "Categories (2, object): ['no', 'yes']"
      ]
     },
     "execution_count": 65,
     "metadata": {},
     "output_type": "execute_result"
    }
   ],
   "source": [
    "output_data=data[\"readmitted\"]\n",
    "output_data.head(3)"
   ]
  },
  {
   "cell_type": "code",
   "execution_count": 66,
   "id": "1e002fa3",
   "metadata": {},
   "outputs": [
    {
     "data": {
      "text/plain": [
       "no     13246\n",
       "yes    11754\n",
       "Name: readmitted, dtype: int64"
      ]
     },
     "execution_count": 66,
     "metadata": {},
     "output_type": "execute_result"
    }
   ],
   "source": [
    "output_data.value_counts()"
   ]
  },
  {
   "cell_type": "markdown",
   "id": "f7984ac4",
   "metadata": {},
   "source": [
    "# perform encoding"
   ]
  },
  {
   "cell_type": "code",
   "execution_count": 67,
   "id": "ca9507e8",
   "metadata": {},
   "outputs": [
    {
     "data": {
      "text/html": [
       "<div>\n",
       "<style scoped>\n",
       "    .dataframe tbody tr th:only-of-type {\n",
       "        vertical-align: middle;\n",
       "    }\n",
       "\n",
       "    .dataframe tbody tr th {\n",
       "        vertical-align: top;\n",
       "    }\n",
       "\n",
       "    .dataframe thead th {\n",
       "        text-align: right;\n",
       "    }\n",
       "</style>\n",
       "<table border=\"1\" class=\"dataframe\">\n",
       "  <thead>\n",
       "    <tr style=\"text-align: right;\">\n",
       "      <th></th>\n",
       "      <th>time_in_hospital</th>\n",
       "      <th>n_lab_procedures</th>\n",
       "      <th>n_procedures</th>\n",
       "      <th>n_medications</th>\n",
       "      <th>n_outpatient</th>\n",
       "      <th>n_inpatient</th>\n",
       "      <th>n_emergency</th>\n",
       "      <th>age_[40-50)</th>\n",
       "      <th>age_[50-60)</th>\n",
       "      <th>age_[60-70)</th>\n",
       "      <th>...</th>\n",
       "      <th>glucose_test_high</th>\n",
       "      <th>glucose_test_no</th>\n",
       "      <th>glucose_test_normal</th>\n",
       "      <th>A1Ctest_high</th>\n",
       "      <th>A1Ctest_no</th>\n",
       "      <th>A1Ctest_normal</th>\n",
       "      <th>change_no</th>\n",
       "      <th>change_yes</th>\n",
       "      <th>diabetes_med_no</th>\n",
       "      <th>diabetes_med_yes</th>\n",
       "    </tr>\n",
       "  </thead>\n",
       "  <tbody>\n",
       "    <tr>\n",
       "      <th>0</th>\n",
       "      <td>8</td>\n",
       "      <td>72</td>\n",
       "      <td>1</td>\n",
       "      <td>18</td>\n",
       "      <td>2</td>\n",
       "      <td>0</td>\n",
       "      <td>0</td>\n",
       "      <td>0</td>\n",
       "      <td>0</td>\n",
       "      <td>0</td>\n",
       "      <td>...</td>\n",
       "      <td>0</td>\n",
       "      <td>1</td>\n",
       "      <td>0</td>\n",
       "      <td>0</td>\n",
       "      <td>1</td>\n",
       "      <td>0</td>\n",
       "      <td>1</td>\n",
       "      <td>0</td>\n",
       "      <td>0</td>\n",
       "      <td>1</td>\n",
       "    </tr>\n",
       "    <tr>\n",
       "      <th>1</th>\n",
       "      <td>3</td>\n",
       "      <td>34</td>\n",
       "      <td>2</td>\n",
       "      <td>13</td>\n",
       "      <td>0</td>\n",
       "      <td>0</td>\n",
       "      <td>0</td>\n",
       "      <td>0</td>\n",
       "      <td>0</td>\n",
       "      <td>0</td>\n",
       "      <td>...</td>\n",
       "      <td>0</td>\n",
       "      <td>1</td>\n",
       "      <td>0</td>\n",
       "      <td>0</td>\n",
       "      <td>1</td>\n",
       "      <td>0</td>\n",
       "      <td>1</td>\n",
       "      <td>0</td>\n",
       "      <td>0</td>\n",
       "      <td>1</td>\n",
       "    </tr>\n",
       "    <tr>\n",
       "      <th>2</th>\n",
       "      <td>5</td>\n",
       "      <td>45</td>\n",
       "      <td>0</td>\n",
       "      <td>18</td>\n",
       "      <td>0</td>\n",
       "      <td>0</td>\n",
       "      <td>0</td>\n",
       "      <td>0</td>\n",
       "      <td>1</td>\n",
       "      <td>0</td>\n",
       "      <td>...</td>\n",
       "      <td>0</td>\n",
       "      <td>1</td>\n",
       "      <td>0</td>\n",
       "      <td>0</td>\n",
       "      <td>1</td>\n",
       "      <td>0</td>\n",
       "      <td>0</td>\n",
       "      <td>1</td>\n",
       "      <td>0</td>\n",
       "      <td>1</td>\n",
       "    </tr>\n",
       "  </tbody>\n",
       "</table>\n",
       "<p>3 rows × 47 columns</p>\n",
       "</div>"
      ],
      "text/plain": [
       "   time_in_hospital  n_lab_procedures  n_procedures  n_medications  \\\n",
       "0                 8                72             1             18   \n",
       "1                 3                34             2             13   \n",
       "2                 5                45             0             18   \n",
       "\n",
       "   n_outpatient  n_inpatient  n_emergency  age_[40-50)  age_[50-60)  \\\n",
       "0             2            0            0            0            0   \n",
       "1             0            0            0            0            0   \n",
       "2             0            0            0            0            1   \n",
       "\n",
       "   age_[60-70)  ...  glucose_test_high  glucose_test_no  glucose_test_normal  \\\n",
       "0            0  ...                  0                1                    0   \n",
       "1            0  ...                  0                1                    0   \n",
       "2            0  ...                  0                1                    0   \n",
       "\n",
       "   A1Ctest_high  A1Ctest_no  A1Ctest_normal  change_no  change_yes  \\\n",
       "0             0           1               0          1           0   \n",
       "1             0           1               0          1           0   \n",
       "2             0           1               0          0           1   \n",
       "\n",
       "   diabetes_med_no  diabetes_med_yes  \n",
       "0                0                 1  \n",
       "1                0                 1  \n",
       "2                0                 1  \n",
       "\n",
       "[3 rows x 47 columns]"
      ]
     },
     "execution_count": 67,
     "metadata": {},
     "output_type": "execute_result"
    }
   ],
   "source": [
    "input_data=pd.get_dummies(input_data)\n",
    "input_data.head(3)"
   ]
  },
  {
   "cell_type": "markdown",
   "id": "7064c2f4",
   "metadata": {},
   "source": [
    "# Scale the features using MinMaxScaler"
   ]
  },
  {
   "cell_type": "code",
   "execution_count": 68,
   "id": "dc75e403",
   "metadata": {},
   "outputs": [],
   "source": [
    "from sklearn.preprocessing import MinMaxScaler"
   ]
  },
  {
   "cell_type": "code",
   "execution_count": 69,
   "id": "98229d82",
   "metadata": {},
   "outputs": [
    {
     "data": {
      "text/html": [
       "<div>\n",
       "<style scoped>\n",
       "    .dataframe tbody tr th:only-of-type {\n",
       "        vertical-align: middle;\n",
       "    }\n",
       "\n",
       "    .dataframe tbody tr th {\n",
       "        vertical-align: top;\n",
       "    }\n",
       "\n",
       "    .dataframe thead th {\n",
       "        text-align: right;\n",
       "    }\n",
       "</style>\n",
       "<table border=\"1\" class=\"dataframe\">\n",
       "  <thead>\n",
       "    <tr style=\"text-align: right;\">\n",
       "      <th></th>\n",
       "      <th>time_in_hospital</th>\n",
       "      <th>n_lab_procedures</th>\n",
       "      <th>n_procedures</th>\n",
       "      <th>n_medications</th>\n",
       "      <th>n_outpatient</th>\n",
       "      <th>n_inpatient</th>\n",
       "      <th>n_emergency</th>\n",
       "      <th>age_[40-50)</th>\n",
       "      <th>age_[50-60)</th>\n",
       "      <th>age_[60-70)</th>\n",
       "      <th>...</th>\n",
       "      <th>glucose_test_high</th>\n",
       "      <th>glucose_test_no</th>\n",
       "      <th>glucose_test_normal</th>\n",
       "      <th>A1Ctest_high</th>\n",
       "      <th>A1Ctest_no</th>\n",
       "      <th>A1Ctest_normal</th>\n",
       "      <th>change_no</th>\n",
       "      <th>change_yes</th>\n",
       "      <th>diabetes_med_no</th>\n",
       "      <th>diabetes_med_yes</th>\n",
       "    </tr>\n",
       "  </thead>\n",
       "  <tbody>\n",
       "    <tr>\n",
       "      <th>0</th>\n",
       "      <td>0.538462</td>\n",
       "      <td>0.633929</td>\n",
       "      <td>0.166667</td>\n",
       "      <td>0.217949</td>\n",
       "      <td>0.060606</td>\n",
       "      <td>0.0</td>\n",
       "      <td>0.0</td>\n",
       "      <td>0.0</td>\n",
       "      <td>0.0</td>\n",
       "      <td>0.0</td>\n",
       "      <td>...</td>\n",
       "      <td>0.0</td>\n",
       "      <td>1.0</td>\n",
       "      <td>0.0</td>\n",
       "      <td>0.0</td>\n",
       "      <td>1.0</td>\n",
       "      <td>0.0</td>\n",
       "      <td>1.0</td>\n",
       "      <td>0.0</td>\n",
       "      <td>0.0</td>\n",
       "      <td>1.0</td>\n",
       "    </tr>\n",
       "    <tr>\n",
       "      <th>1</th>\n",
       "      <td>0.153846</td>\n",
       "      <td>0.294643</td>\n",
       "      <td>0.333333</td>\n",
       "      <td>0.153846</td>\n",
       "      <td>0.000000</td>\n",
       "      <td>0.0</td>\n",
       "      <td>0.0</td>\n",
       "      <td>0.0</td>\n",
       "      <td>0.0</td>\n",
       "      <td>0.0</td>\n",
       "      <td>...</td>\n",
       "      <td>0.0</td>\n",
       "      <td>1.0</td>\n",
       "      <td>0.0</td>\n",
       "      <td>0.0</td>\n",
       "      <td>1.0</td>\n",
       "      <td>0.0</td>\n",
       "      <td>1.0</td>\n",
       "      <td>0.0</td>\n",
       "      <td>0.0</td>\n",
       "      <td>1.0</td>\n",
       "    </tr>\n",
       "    <tr>\n",
       "      <th>2</th>\n",
       "      <td>0.307692</td>\n",
       "      <td>0.392857</td>\n",
       "      <td>0.000000</td>\n",
       "      <td>0.217949</td>\n",
       "      <td>0.000000</td>\n",
       "      <td>0.0</td>\n",
       "      <td>0.0</td>\n",
       "      <td>0.0</td>\n",
       "      <td>1.0</td>\n",
       "      <td>0.0</td>\n",
       "      <td>...</td>\n",
       "      <td>0.0</td>\n",
       "      <td>1.0</td>\n",
       "      <td>0.0</td>\n",
       "      <td>0.0</td>\n",
       "      <td>1.0</td>\n",
       "      <td>0.0</td>\n",
       "      <td>0.0</td>\n",
       "      <td>1.0</td>\n",
       "      <td>0.0</td>\n",
       "      <td>1.0</td>\n",
       "    </tr>\n",
       "    <tr>\n",
       "      <th>3</th>\n",
       "      <td>0.076923</td>\n",
       "      <td>0.312500</td>\n",
       "      <td>0.000000</td>\n",
       "      <td>0.141026</td>\n",
       "      <td>0.030303</td>\n",
       "      <td>0.0</td>\n",
       "      <td>0.0</td>\n",
       "      <td>0.0</td>\n",
       "      <td>0.0</td>\n",
       "      <td>0.0</td>\n",
       "      <td>...</td>\n",
       "      <td>0.0</td>\n",
       "      <td>1.0</td>\n",
       "      <td>0.0</td>\n",
       "      <td>0.0</td>\n",
       "      <td>1.0</td>\n",
       "      <td>0.0</td>\n",
       "      <td>0.0</td>\n",
       "      <td>1.0</td>\n",
       "      <td>0.0</td>\n",
       "      <td>1.0</td>\n",
       "    </tr>\n",
       "    <tr>\n",
       "      <th>4</th>\n",
       "      <td>0.000000</td>\n",
       "      <td>0.366071</td>\n",
       "      <td>0.000000</td>\n",
       "      <td>0.076923</td>\n",
       "      <td>0.000000</td>\n",
       "      <td>0.0</td>\n",
       "      <td>0.0</td>\n",
       "      <td>0.0</td>\n",
       "      <td>0.0</td>\n",
       "      <td>1.0</td>\n",
       "      <td>...</td>\n",
       "      <td>0.0</td>\n",
       "      <td>1.0</td>\n",
       "      <td>0.0</td>\n",
       "      <td>0.0</td>\n",
       "      <td>1.0</td>\n",
       "      <td>0.0</td>\n",
       "      <td>1.0</td>\n",
       "      <td>0.0</td>\n",
       "      <td>0.0</td>\n",
       "      <td>1.0</td>\n",
       "    </tr>\n",
       "  </tbody>\n",
       "</table>\n",
       "<p>5 rows × 47 columns</p>\n",
       "</div>"
      ],
      "text/plain": [
       "   time_in_hospital  n_lab_procedures  n_procedures  n_medications  \\\n",
       "0          0.538462          0.633929      0.166667       0.217949   \n",
       "1          0.153846          0.294643      0.333333       0.153846   \n",
       "2          0.307692          0.392857      0.000000       0.217949   \n",
       "3          0.076923          0.312500      0.000000       0.141026   \n",
       "4          0.000000          0.366071      0.000000       0.076923   \n",
       "\n",
       "   n_outpatient  n_inpatient  n_emergency  age_[40-50)  age_[50-60)  \\\n",
       "0      0.060606          0.0          0.0          0.0          0.0   \n",
       "1      0.000000          0.0          0.0          0.0          0.0   \n",
       "2      0.000000          0.0          0.0          0.0          1.0   \n",
       "3      0.030303          0.0          0.0          0.0          0.0   \n",
       "4      0.000000          0.0          0.0          0.0          0.0   \n",
       "\n",
       "   age_[60-70)  ...  glucose_test_high  glucose_test_no  glucose_test_normal  \\\n",
       "0          0.0  ...                0.0              1.0                  0.0   \n",
       "1          0.0  ...                0.0              1.0                  0.0   \n",
       "2          0.0  ...                0.0              1.0                  0.0   \n",
       "3          0.0  ...                0.0              1.0                  0.0   \n",
       "4          1.0  ...                0.0              1.0                  0.0   \n",
       "\n",
       "   A1Ctest_high  A1Ctest_no  A1Ctest_normal  change_no  change_yes  \\\n",
       "0           0.0         1.0             0.0        1.0         0.0   \n",
       "1           0.0         1.0             0.0        1.0         0.0   \n",
       "2           0.0         1.0             0.0        0.0         1.0   \n",
       "3           0.0         1.0             0.0        0.0         1.0   \n",
       "4           0.0         1.0             0.0        1.0         0.0   \n",
       "\n",
       "   diabetes_med_no  diabetes_med_yes  \n",
       "0              0.0               1.0  \n",
       "1              0.0               1.0  \n",
       "2              0.0               1.0  \n",
       "3              0.0               1.0  \n",
       "4              0.0               1.0  \n",
       "\n",
       "[5 rows x 47 columns]"
      ]
     },
     "execution_count": 69,
     "metadata": {},
     "output_type": "execute_result"
    }
   ],
   "source": [
    "scaler=MinMaxScaler()\n",
    "scaler_dfx=pd.DataFrame(scaler.fit_transform(input_data),columns=input_data.columns)\n",
    "scaler_dfx.head(5)"
   ]
  },
  {
   "cell_type": "code",
   "execution_count": 70,
   "id": "2aad116d",
   "metadata": {},
   "outputs": [],
   "source": [
    "scaler_dfx.to_csv(\"TRANSFORMED_DATA OF HEALTHCARE.csv\")"
   ]
  },
  {
   "cell_type": "markdown",
   "id": "ac6a520c",
   "metadata": {},
   "source": [
    "# split the data into train and test sets"
   ]
  },
  {
   "cell_type": "code",
   "execution_count": 71,
   "id": "8b2b1994",
   "metadata": {},
   "outputs": [],
   "source": [
    "from sklearn.model_selection import train_test_split,RandomizedSearchCV"
   ]
  },
  {
   "cell_type": "code",
   "execution_count": 72,
   "id": "654a9213",
   "metadata": {},
   "outputs": [],
   "source": [
    "input_train,input_test,output_train,output_test=train_test_split(scaler_dfx,output_data,test_size=0.2,random_state=1)"
   ]
  },
  {
   "cell_type": "code",
   "execution_count": 73,
   "id": "43edf7c4",
   "metadata": {},
   "outputs": [
    {
     "data": {
      "text/plain": [
       "['no', 'yes']\n",
       "Categories (2, object): ['no', 'yes']"
      ]
     },
     "execution_count": 73,
     "metadata": {},
     "output_type": "execute_result"
    }
   ],
   "source": [
    "output_train.unique()"
   ]
  },
  {
   "cell_type": "markdown",
   "id": "f06f3e99",
   "metadata": {},
   "source": [
    "# KNN"
   ]
  },
  {
   "cell_type": "code",
   "execution_count": 74,
   "id": "d6737fb0",
   "metadata": {},
   "outputs": [],
   "source": [
    "from sklearn.neighbors import KNeighborsClassifier"
   ]
  },
  {
   "cell_type": "code",
   "execution_count": 75,
   "id": "5b965e8c",
   "metadata": {},
   "outputs": [
    {
     "name": "stderr",
     "output_type": "stream",
     "text": [
      "C:\\Users\\Kiran\\anaconda3\\lib\\site-packages\\sklearn\\neighbors\\_classification.py:228: FutureWarning: Unlike other reduction functions (e.g. `skew`, `kurtosis`), the default behavior of `mode` typically preserves the axis it acts along. In SciPy 1.11.0, this behavior will change: the default value of `keepdims` will become False, the `axis` over which the statistic is taken will be eliminated, and the value None will no longer be accepted. Set `keepdims` to True or False to avoid this warning.\n",
      "  mode, _ = stats.mode(_y[neigh_ind, k], axis=1)\n"
     ]
    },
    {
     "data": {
      "text/plain": [
       "array(['no', 'no', 'no', ..., 'yes', 'yes', 'yes'], dtype=object)"
      ]
     },
     "execution_count": 75,
     "metadata": {},
     "output_type": "execute_result"
    }
   ],
   "source": [
    "# Initialize the model (K-Nearest Neighbors)\n",
    "knn = KNeighborsClassifier()\n",
    "\n",
    "# Train the model on the training data\n",
    "knn.fit(input_train, output_train)\n",
    "\n",
    "# Make predictions on the testing data\n",
    "y_pred = knn.predict(input_test)\n",
    "y_pred"
   ]
  },
  {
   "cell_type": "markdown",
   "id": "87012aaf",
   "metadata": {},
   "source": [
    "# Evaluate the model"
   ]
  },
  {
   "cell_type": "code",
   "execution_count": 76,
   "id": "940c1395",
   "metadata": {},
   "outputs": [],
   "source": [
    "from sklearn.metrics import accuracy_score,classification_report"
   ]
  },
  {
   "cell_type": "code",
   "execution_count": 77,
   "id": "8e2d678e",
   "metadata": {},
   "outputs": [
    {
     "name": "stdout",
     "output_type": "stream",
     "text": [
      "KNN classifier accuracy = 53.62 %\n"
     ]
    }
   ],
   "source": [
    "knn_acc = accuracy_score(output_test,y_pred)*100\n",
    "print(\"KNN classifier accuracy =\" ,round( knn_acc,2),\"%\")"
   ]
  },
  {
   "cell_type": "markdown",
   "id": "82d345cf",
   "metadata": {},
   "source": [
    "# Here we get 54% accuracy for our KNN algorithm"
   ]
  },
  {
   "cell_type": "markdown",
   "id": "fb19d58a",
   "metadata": {},
   "source": [
    "# Logistic Regression"
   ]
  },
  {
   "cell_type": "code",
   "execution_count": 78,
   "id": "ba01bbd2",
   "metadata": {},
   "outputs": [],
   "source": [
    "from sklearn.linear_model import LogisticRegression"
   ]
  },
  {
   "cell_type": "code",
   "execution_count": 79,
   "id": "60eca45b",
   "metadata": {},
   "outputs": [],
   "source": [
    "#creating an object of logistic regression model\n",
    "lreg = LogisticRegression()"
   ]
  },
  {
   "cell_type": "code",
   "execution_count": 80,
   "id": "0bd79c6e",
   "metadata": {},
   "outputs": [
    {
     "name": "stderr",
     "output_type": "stream",
     "text": [
      "C:\\Users\\Kiran\\anaconda3\\lib\\site-packages\\sklearn\\linear_model\\_logistic.py:814: ConvergenceWarning: lbfgs failed to converge (status=1):\n",
      "STOP: TOTAL NO. of ITERATIONS REACHED LIMIT.\n",
      "\n",
      "Increase the number of iterations (max_iter) or scale the data as shown in:\n",
      "    https://scikit-learn.org/stable/modules/preprocessing.html\n",
      "Please also refer to the documentation for alternative solver options:\n",
      "    https://scikit-learn.org/stable/modules/linear_model.html#logistic-regression\n",
      "  n_iter_i = _check_optimize_result(\n"
     ]
    },
    {
     "data": {
      "text/plain": [
       "LogisticRegression()"
      ]
     },
     "execution_count": 80,
     "metadata": {},
     "output_type": "execute_result"
    }
   ],
   "source": [
    "#fitting the data into the model\n",
    "lreg.fit(input_train,output_train)"
   ]
  },
  {
   "cell_type": "code",
   "execution_count": 81,
   "id": "055bfbf1",
   "metadata": {},
   "outputs": [],
   "source": [
    "#Making predictions on the validation set\n",
    "pred = lreg.predict(input_test)"
   ]
  },
  {
   "cell_type": "code",
   "execution_count": 82,
   "id": "9ddf0ed6",
   "metadata": {},
   "outputs": [
    {
     "name": "stdout",
     "output_type": "stream",
     "text": [
      "Logistic regression classifier accuracy = 60.04 %\n"
     ]
    }
   ],
   "source": [
    "#Calculating the accuracy score\n",
    "lreg_accuracy = accuracy_score(output_test,pred)*100\n",
    "print(\"Logistic regression classifier accuracy =\" ,round(lreg_accuracy,2),\"%\")"
   ]
  },
  {
   "cell_type": "markdown",
   "id": "512e4f0d",
   "metadata": {},
   "source": [
    "# here we got 60% accuracy for Logistic Regesison model"
   ]
  },
  {
   "cell_type": "code",
   "execution_count": 83,
   "id": "0878f65a",
   "metadata": {},
   "outputs": [],
   "source": [
    "# Define the parameter grid\n",
    "param_grid = {\n",
    "    'n_estimators': [100, 200, 300],\n",
    "    'max_depth': [None, 10, 20],\n",
    "    'min_samples_split': [2, 5, 10],\n",
    "    'min_samples_leaf': [1, 2, 4],\n",
    "    'bootstrap': [True, False]\n",
    "}"
   ]
  },
  {
   "cell_type": "markdown",
   "id": "a8ef8b5e",
   "metadata": {},
   "source": [
    "# Random Forest Classifier"
   ]
  },
  {
   "cell_type": "code",
   "execution_count": 84,
   "id": "6893be7f",
   "metadata": {},
   "outputs": [],
   "source": [
    "from sklearn.ensemble import RandomForestClassifier"
   ]
  },
  {
   "cell_type": "markdown",
   "id": "6f51e1ad",
   "metadata": {},
   "source": [
    "# Train a Random Forest model"
   ]
  },
  {
   "cell_type": "code",
   "execution_count": 85,
   "id": "3cd39faa",
   "metadata": {},
   "outputs": [],
   "source": [
    "# Define parameters distribution\n",
    "param_dist = {\n",
    "    'n_estimators': [100, 200, 300, 400],\n",
    "    'max_depth': [None] + list(np.arange(10, 110, 10)),\n",
    "    'min_samples_split': [2, 5, 10],\n",
    "    'min_samples_leaf': [1, 2, 4],\n",
    "    'bootstrap': [True, False]\n",
    "}"
   ]
  },
  {
   "cell_type": "code",
   "execution_count": 86,
   "id": "0df0c830",
   "metadata": {},
   "outputs": [],
   "source": [
    "# Instantiate Random Forest classifier\n",
    "rf = RandomForestClassifier(random_state=42)"
   ]
  },
  {
   "cell_type": "code",
   "execution_count": 87,
   "id": "5fdf226e",
   "metadata": {},
   "outputs": [],
   "source": [
    "# Instantiate RandomizedSearchCV\n",
    "random_search = RandomizedSearchCV(estimator=rf, param_distributions=param_dist,n_iter=100, cv=3, n_jobs=-1, random_state=42)"
   ]
  },
  {
   "cell_type": "code",
   "execution_count": 88,
   "id": "1e850a13",
   "metadata": {},
   "outputs": [
    {
     "data": {
      "text/plain": [
       "RandomizedSearchCV(cv=3, estimator=RandomForestClassifier(random_state=42),\n",
       "                   n_iter=100, n_jobs=-1,\n",
       "                   param_distributions={'bootstrap': [True, False],\n",
       "                                        'max_depth': [None, 10, 20, 30, 40, 50,\n",
       "                                                      60, 70, 80, 90, 100],\n",
       "                                        'min_samples_leaf': [1, 2, 4],\n",
       "                                        'min_samples_split': [2, 5, 10],\n",
       "                                        'n_estimators': [100, 200, 300, 400]},\n",
       "                   random_state=42)"
      ]
     },
     "execution_count": 88,
     "metadata": {},
     "output_type": "execute_result"
    }
   ],
   "source": [
    "# Fit the model\n",
    "random_search.fit(input_train,output_train)"
   ]
  },
  {
   "cell_type": "code",
   "execution_count": 89,
   "id": "02db24ec",
   "metadata": {},
   "outputs": [
    {
     "name": "stdout",
     "output_type": "stream",
     "text": [
      "Best Parameters: {'n_estimators': 400, 'min_samples_split': 2, 'min_samples_leaf': 1, 'max_depth': 10, 'bootstrap': True}\n"
     ]
    }
   ],
   "source": [
    "# Best parameters\n",
    "print(\"Best Parameters:\", random_search.best_params_)"
   ]
  },
  {
   "cell_type": "code",
   "execution_count": 90,
   "id": "c23436cd",
   "metadata": {},
   "outputs": [],
   "source": [
    "# Predictions using best estimator\n",
    "y_pred = random_search.best_estimator_.predict(input_test)"
   ]
  },
  {
   "cell_type": "code",
   "execution_count": 91,
   "id": "1e21f9a0",
   "metadata": {},
   "outputs": [
    {
     "name": "stdout",
     "output_type": "stream",
     "text": [
      "Accuracy: 0.6134\n"
     ]
    }
   ],
   "source": [
    "# Evaluate model\n",
    "accuracy = accuracy_score(output_test, y_pred)\n",
    "print(\"Accuracy:\", accuracy)"
   ]
  },
  {
   "cell_type": "code",
   "execution_count": null,
   "id": "c45c660d",
   "metadata": {},
   "outputs": [],
   "source": []
  }
 ],
 "metadata": {
  "kernelspec": {
   "display_name": "Python 3 (ipykernel)",
   "language": "python",
   "name": "python3"
  },
  "language_info": {
   "codemirror_mode": {
    "name": "ipython",
    "version": 3
   },
   "file_extension": ".py",
   "mimetype": "text/x-python",
   "name": "python",
   "nbconvert_exporter": "python",
   "pygments_lexer": "ipython3",
   "version": "3.9.13"
  }
 },
 "nbformat": 4,
 "nbformat_minor": 5
}
